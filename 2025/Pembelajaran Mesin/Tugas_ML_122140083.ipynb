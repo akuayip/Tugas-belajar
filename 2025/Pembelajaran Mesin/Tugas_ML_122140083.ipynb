{
  "nbformat": 4,
  "nbformat_minor": 0,
  "metadata": {
    "colab": {
      "provenance": [],
      "toc_visible": true
    },
    "kernelspec": {
      "name": "python3",
      "display_name": "Python 3"
    },
    "language_info": {
      "name": "python"
    }
  },
  "cells": [
    {
      "cell_type": "markdown",
      "source": [
        "# **LAPORAN HASIL PERCOBAAN MODUL**"
      ],
      "metadata": {
        "id": "OZldv9tPuLO7"
      }
    },
    {
      "cell_type": "markdown",
      "source": [
        "Tugas Pembelajaran Mesin \\\n",
        "- Nama : M.Arief Rahman Hakim\n",
        "- NIM  : 122140083  \n",
        "- Link Google Collab : https://colab.research.google.com/drive/1LW11H13OG-HSizLtN7v4y0N7EiBVQnZn?usp=sharing"
      ],
      "metadata": {
        "id": "ZmkFkGXxdA1j"
      }
    },
    {
      "cell_type": "markdown",
      "source": [
        "# **MODUL 1-1. SIMPLE LINEAR REGRESSION DENGAN SCIKIT-LEARN**"
      ],
      "metadata": {
        "id": "ixjYfcctdFIZ"
      }
    },
    {
      "cell_type": "markdown",
      "source": [
        "1. Masukkan paket dan kelas library yang dibutuhkan dalam komputasi regresi linier. Pada\n",
        "komputasi modul sesi ini dibutuhkan paket Numpy dan kelas LinearRegression dari paket Scikit\n",
        "Learn. Paket Numpy merupakan paket dasar komputasi sains pada Python yang menyediakan\n",
        "operasi dengan kemampuan tingkat tinggi (high-performance) pada array dengan dimensi\n",
        "tunggal ataupun multidimensi. Sedangkan paket Scikit-Learn secara luas digunakan sebagai\n",
        "Library Python untuk pembelajaran mesin. Paket ini dibangun diatas paket Numpy dan lainnya,\n",
        "sehingga dapat menyediakan operasi seperti preprocessing data, pengurangan dimensi, regresi,\n",
        "klasifikasi, pengelompokan/clustering, dan banyak lainnya."
      ],
      "metadata": {
        "id": "Ezbj-uKTdIB5"
      }
    },
    {
      "cell_type": "code",
      "source": [
        "import numpy as np\n",
        "from sklearn.linear_model import LinearRegression"
      ],
      "metadata": {
        "id": "ZWepecd-dJq5"
      },
      "execution_count": null,
      "outputs": []
    },
    {
      "cell_type": "markdown",
      "source": [
        "2. Selanjutnya mempersiapkan data untuk proses pembelajaran. Pada modul ini dibuat data training\n",
        "yang sederhana dengan melibatkan 6 baris data. Data terdiri dari komponen Input (regressors, x)\n",
        "serta Output (predictor, y)."
      ],
      "metadata": {
        "id": "p-b7cd4QdMM5"
      }
    },
    {
      "cell_type": "code",
      "source": [
        "x = np.array([5, 15, 25, 35, 45, 55]).reshape((-1, 1))\n",
        "y = np.array([5, 20, 14, 32, 22, 38])"
      ],
      "metadata": {
        "id": "MFiPvCeQdNbR"
      },
      "execution_count": null,
      "outputs": []
    },
    {
      "cell_type": "markdown",
      "source": [
        "Dibutuhkan memanggil fungsi reshape() pada x, karena dibutuhkan array dengan dua dimensi\n",
        "atau dengan kata lain dibutuhkan data dengan representasi satu kolom (fields) dengan sejumlah\n",
        "baris data yang dibutuhkan."
      ],
      "metadata": {
        "id": "bMrq-gF0dQYJ"
      }
    },
    {
      "cell_type": "markdown",
      "source": [
        "3. Langkah berikutnya yaitu membuat model regresi linier dan menyesuaikannya dengan data yang\n",
        "tersedia."
      ],
      "metadata": {
        "id": "y-lmPUJ-dRBw"
      }
    },
    {
      "cell_type": "code",
      "source": [
        "model = LinearRegression().fit(x, y)"
      ],
      "metadata": {
        "id": "Rk-YHkE2dSeY"
      },
      "execution_count": null,
      "outputs": []
    },
    {
      "cell_type": "markdown",
      "source": [
        "Operasi .fit() akan melakukan perhitungan untuk memperoleh nilai bobot b0 dan b1 dengan\n",
        "mempertimbangkan data input dan output yang diberikan sebagai argument fungsi."
      ],
      "metadata": {
        "id": "kvX9i_khdU0A"
      }
    },
    {
      "cell_type": "markdown",
      "source": [
        "4. Model yang telah dihasilkan, selanjutnya dilakukan evaluasi menggunakan Determination\n",
        "Coefficient (R2). Nilai evaluasi ini berbanding terbalik dengan SSR (Sum Square Residual) yang\n",
        "mana semakin besar nilai R2 (mendekati nilai 1) maka semakin kecil nilai SSR-nya (mendekati\n",
        "nilai 0)"
      ],
      "metadata": {
        "id": "2kZB9u6OdWxI"
      }
    },
    {
      "cell_type": "code",
      "source": [
        "r_sq = model.score(x, y)\n",
        "print('coefficient of determination:', r_sq)\n"
      ],
      "metadata": {
        "colab": {
          "base_uri": "https://localhost:8080/"
        },
        "id": "epRy9n1RdakK",
        "outputId": "399d3a66-52b1-4211-f613-28dc6e0e730a"
      },
      "execution_count": null,
      "outputs": [
        {
          "output_type": "stream",
          "name": "stdout",
          "text": [
            "coefficient of determination: 0.7158756137479542\n"
          ]
        }
      ]
    },
    {
      "cell_type": "markdown",
      "source": [
        "5. Berdasarkan model yang dihasilkan, juga diperoleh informasi terkait dengan intercept (b0) serta\n",
        "slope/gradient (b1) dari model persamaan f(x) = b0 + b1 * x."
      ],
      "metadata": {
        "id": "EtzqaYKXdd6A"
      }
    },
    {
      "cell_type": "code",
      "source": [
        "print('intercept:', model.intercept_)\n",
        "print('gradient:', model.coef_)"
      ],
      "metadata": {
        "colab": {
          "base_uri": "https://localhost:8080/"
        },
        "id": "gGGt4Yf-dePp",
        "outputId": "94799bfd-24ab-4d5d-e4b7-3d073924fbac"
      },
      "execution_count": null,
      "outputs": [
        {
          "output_type": "stream",
          "name": "stdout",
          "text": [
            "intercept: 5.633333333333329\n",
            "gradient: [0.54]\n"
          ]
        }
      ]
    },
    {
      "cell_type": "markdown",
      "source": [
        "6. Pada akhirnya, model yang diperoleh dapat digunakan untuk melakukan estimasi terhadap data\n",
        "baru. Data baru pada modul ini dihasilkan dari pembangkitan bilangan random menggunakan\n",
        "fungsi arrange dari paket Numpy."
      ],
      "metadata": {
        "id": "4SMufKtmdfxx"
      }
    },
    {
      "cell_type": "code",
      "source": [
        "x_new = np.arange(5).reshape((-1, 1))\n",
        "print(x_new)\n",
        "y_new = model.predict(x_new)\n",
        "print(y_new)"
      ],
      "metadata": {
        "colab": {
          "base_uri": "https://localhost:8080/"
        },
        "id": "Mbkur3ewdhD5",
        "outputId": "b465dda0-c3bf-40f6-9b1b-4f9fff6208b3"
      },
      "execution_count": null,
      "outputs": [
        {
          "output_type": "stream",
          "name": "stdout",
          "text": [
            "[[0]\n",
            " [1]\n",
            " [2]\n",
            " [3]\n",
            " [4]]\n",
            "[5.63333333 6.17333333 6.71333333 7.25333333 7.79333333]\n"
          ]
        }
      ]
    },
    {
      "cell_type": "markdown",
      "source": [
        "7. Tuliskan luaran yang dihasilkan dari eksplorasi Regresi Linier tersebut ke dalam laporan yang\n",
        "disertai dengan penjelasan hasil pemahaman yang Mahasiswa peroleh."
      ],
      "metadata": {
        "id": "tEtIQf0sdkHa"
      }
    },
    {
      "cell_type": "code",
      "source": [
        "import matplotlib.pyplot as plt\n",
        "\n",
        "plt.scatter(x, y, color='blue', label='Data Asli')\n",
        "plt.plot(x, model.predict(x), color='red', label='Garis Regresi')\n",
        "plt.title('Visualisasi Regresi Linier')\n",
        "plt.xlabel('Input (x)')\n",
        "plt.ylabel('Output (y)')\n",
        "plt.legend()\n",
        "plt.show()\n"
      ],
      "metadata": {
        "colab": {
          "base_uri": "https://localhost:8080/",
          "height": 472
        },
        "id": "mH0-1zQweR9q",
        "outputId": "bc1ae65a-de44-4348-c10c-b5ad1b6dcd00"
      },
      "execution_count": null,
      "outputs": [
        {
          "output_type": "display_data",
          "data": {
            "text/plain": [
              "<Figure size 640x480 with 1 Axes>"
            ],
            "image/png": "[encoded data removed]"
          },
          "metadata": {}
        }
      ]
    },
    {
      "cell_type": "markdown",
      "source": [
        "### **Laporan Hasil Percobaan Modul 1-1**"
      ],
      "metadata": {
        "id": "JbAPacCYorI8"
      }
    },
    {
      "cell_type": "markdown",
      "source": [
        "1. Pendahuluan\\\n",
        "Pada eksperimen ini, dilakukan eksplorasi tentang Regresi Linier menggunakan Scikit-Learn untuk memodelkan hubungan antara dua variabel: satu variabel independen (input) dan satu variabel dependen (output). Dataset yang digunakan terdiri dari 6 titik data, yang memetakan hubungan antara nilai input (x) dan output (y). Tujuan utama eksperimen ini adalah untuk memahami bagaimana model regresi linier bekerja dalam memprediksi output berdasarkan input."
      ],
      "metadata": {
        "id": "MzT4S9r-u1H-"
      }
    },
    {
      "cell_type": "markdown",
      "source": [
        "2. Deskripsi Proses Eksperimen\n",
        "- Input (X): Data input yang digunakan dalam eksperimen ini adalah [5, 15, 25, 35, 45, 55]. Data ini direpresentasikan sebagai array dua dimensi menggunakan fungsi reshape().\n",
        "- Output (Y): Output yang terkait dengan input tersebut adalah [5, 20, 14, 32, 22, 38]. Model regresi linier akan mencoba mempelajari hubungan antara X dan Y."
      ],
      "metadata": {
        "id": "N6pX10Vlu3Te"
      }
    },
    {
      "cell_type": "markdown",
      "source": [
        "3. Pembuatan Model Regresi Linier\\\n",
        "Model LinearRegression dari Scikit-Learn digunakan untuk membuat model regresi linier. Proses ini melibatkan penyesuaian model dengan data, di mana parameter dari model seperti intercept (b0) dan slope (b1) dihitung.\n",
        "\n",
        "- Intercept (b0): Diperoleh sebagai 5.63.\n",
        "- Slope (b1): Diperoleh sebagai 0.54, yang menunjukkan seberapa besar perubahan output ketika input berubah."
      ],
      "metadata": {
        "id": "1GXBEx6ku-42"
      }
    },
    {
      "cell_type": "markdown",
      "source": [
        "4. Evaluasi Model\\\n",
        "Setelah model regresi linier disesuaikan, kita melakukan evaluasi dengan menghitung Koefisien Determinasi (R²) menggunakan fungsi model.score().\n",
        "\n",
        "  Hasil R² untuk model ini adalah 0.7158, yang berarti bahwa model ini mampu menjelaskan 71.58% variansi dalam data output. Semakin tinggi nilai R², semakin baik model dalam memprediksi data."
      ],
      "metadata": {
        "id": "HZFoSAzwvZw3"
      }
    },
    {
      "cell_type": "markdown",
      "source": [
        "5. Prediksi Data Baru\\\n",
        "Model yang telah dilatih digunakan untuk memprediksi output berdasarkan input baru. Dalam eksperimen ini, input baru yang digunakan adalah angka [0, 1, 2, 3, 4].\n",
        "\n",
        "  Hasil Prediksi:\n",
        "  Prediksi: [5.63333333, 6.17333333, 6.71333333, 7.25333333, 7.79333333]\n",
        "\n",
        "  Interpretasi: \\\n",
        "  Hasil prediksi menunjukkan bahwa model berhasil memproyeksikan output untuk nilai input baru, berdasarkan hubungan linier yang dipelajari selama pelatihan."
      ],
      "metadata": {
        "id": "gvgCvZ1awDm-"
      }
    },
    {
      "cell_type": "markdown",
      "source": [
        "6. Visualisasi Hasil Regresi Linier\\\n",
        "Grafik yang dihasilkan menunjukkan data asli dan garis regresi yang dipelajari oleh model. Data asli digambarkan dengan titik-titik biru, sementara garis regresi yang dipelajari oleh model digambarkan dengan garis merah."
      ],
      "metadata": {
        "id": "q1JNOQ2owXvL"
      }
    },
    {
      "cell_type": "markdown",
      "source": [
        "7. Pemahaman Pribadi\\\n",
        "Saya memahami bahwa regresi linier adalah metode yang sangat sederhana untuk memodelkan hubungan antara dua variabel. Dalam eksperimen ini, model regresi linier berhasil menemukan garis yang paling sesuai dengan data yang diberikan. Dengan mempelajari koefisien (intercept dan slope), kita dapat memahami cara model memprediksi output berdasarkan input. Evaluasi menggunakan R² juga memberikan gambaran seberapa baik model ini dalam memprediksi data yang diberikan.\n",
        "\n",
        "  Hal-hal yang dipelajari:\n",
        "\n",
        "- Penggunaan LinearRegression dari Scikit-Learn untuk membuat model regresi linier.\n",
        "- Pentingnya R² dalam mengevaluasi kualitas model regresi.\n",
        "- Proses normalisasi dan prediksi dengan model yang telah dilatih.\n"
      ],
      "metadata": {
        "id": "5Y3uu_yIvl-v"
      }
    },
    {
      "cell_type": "markdown",
      "source": [
        "8. Kesimpulan\n",
        "- Model regresi linier yang dibangun dengan Scikit-Learn berhasil memprediksi output berdasarkan input yang diberikan dengan akurasi yang baik, meskipun ada ruang untuk perbaikan dalam hal penjelasan variansi data.\n",
        "- Dengan nilai R² sebesar 71.58%, model ini dapat dianggap cukup baik dalam memprediksi hubungan linier antara input dan output.\n",
        "- Mahasiswa dapat melanjutkan eksplorasi dengan teknik-teknik regresi lainnya atau meningkatkan model ini dengan menambah data atau menggunakan model yang lebih kompleks."
      ],
      "metadata": {
        "id": "MiNMf-Mnv5DP"
      }
    },
    {
      "cell_type": "markdown",
      "source": [
        "# **MODUL 1-2. ARTIFICIAL NEURAL NETWORK PADA PYTHON DENGAN KERAS [2]**"
      ],
      "metadata": {
        "id": "1OUgYmFzifP-"
      }
    },
    {
      "cell_type": "markdown",
      "source": [
        "1. Pada proses awal, dibutuhkan library untuk membaca file eksternal menggunakan kelas library\n",
        "Numpy, serta kelas library Keras untuk membantu membuat model jaringan syaraf (neural\n",
        "network) sesuai dengan data yang diberikan. Keras merupakan Open Source Neural Network\n",
        "Library yang ditulis dalam bahasa Python serta dapat berjalan di atas library TensorFlow yang\n",
        "sangat berguna untuk komputasi numerik yang membuat machine learning lebih cepat dan lebih\n",
        "mudah."
      ],
      "metadata": {
        "id": "g9qjZ1tcigWO"
      }
    },
    {
      "cell_type": "code",
      "source": [
        "!pip install keras\n",
        "from numpy import loadtxt\n",
        "from keras.models import Sequential\n",
        "from keras.layers import Dense"
      ],
      "metadata": {
        "colab": {
          "base_uri": "https://localhost:8080/"
        },
        "id": "rxVvcN9ajRu_",
        "outputId": "8df61471-5650-4edb-d8e4-3b7fcf8a0764"
      },
      "execution_count": null,
      "outputs": [
        {
          "output_type": "stream",
          "name": "stdout",
          "text": [
            "Requirement already satisfied: keras in /usr/local/lib/python3.11/dist-packages (3.8.0)\n",
            "Requirement already satisfied: absl-py in /usr/local/lib/python3.11/dist-packages (from keras) (1.4.0)\n",
            "Requirement already satisfied: numpy in /usr/local/lib/python3.11/dist-packages (from keras) (2.0.2)\n",
            "Requirement already satisfied: rich in /usr/local/lib/python3.11/dist-packages (from keras) (13.9.4)\n",
            "Requirement already satisfied: namex in /usr/local/lib/python3.11/dist-packages (from keras) (0.0.8)\n",
            "Requirement already satisfied: h5py in /usr/local/lib/python3.11/dist-packages (from keras) (3.12.1)\n",
            "Requirement already satisfied: optree in /usr/local/lib/python3.11/dist-packages (from keras) (0.14.1)\n",
            "Requirement already satisfied: ml-dtypes in /usr/local/lib/python3.11/dist-packages (from keras) (0.4.1)\n",
            "Requirement already satisfied: packaging in /usr/local/lib/python3.11/dist-packages (from keras) (24.2)\n",
            "Requirement already satisfied: typing-extensions>=4.5.0 in /usr/local/lib/python3.11/dist-packages (from optree->keras) (4.12.2)\n",
            "Requirement already satisfied: markdown-it-py>=2.2.0 in /usr/local/lib/python3.11/dist-packages (from rich->keras) (3.0.0)\n",
            "Requirement already satisfied: pygments<3.0.0,>=2.13.0 in /usr/local/lib/python3.11/dist-packages (from rich->keras) (2.18.0)\n",
            "Requirement already satisfied: mdurl~=0.1 in /usr/local/lib/python3.11/dist-packages (from markdown-it-py>=2.2.0->rich->keras) (0.1.2)\n"
          ]
        }
      ]
    },
    {
      "cell_type": "markdown",
      "source": [
        "2. Langkah berikutnya adalah memuat dataset, yang mana pada modul ini digunakan file eksternal\n",
        "dengan tipe file csv yang berkaitan dengan klasifikasi diabetes dengan 8 parameter input,\n",
        "meliputi (a) banyaknya intensitas kehamilan; (b) konsentrasi glukosa plasma; (c) tekanan darah;\n",
        "(d) ketebalan lipatan kulit; (e) serum insulin; (f) indeks massa tubuh; (g) silsilah diabetes; (h)\n",
        "usia. Pada file tersebut juga terdapat kolom data yang berisi informasi klasifikasi suatu gejala\n",
        "akan didiagnosis mengidap penyakit diabetes (1) atau tidak (0)."
      ],
      "metadata": {
        "id": "I2WsRSpzjTTe"
      }
    },
    {
      "cell_type": "code",
      "source": [
        "dataset = loadtxt('/content/diabetes.csv', delimiter=',', skiprows=1)\n",
        "X = dataset[:,0:8]\n",
        "y = dataset[:,8]"
      ],
      "metadata": {
        "id": "g1BxqioGjV9W"
      },
      "execution_count": null,
      "outputs": []
    },
    {
      "cell_type": "markdown",
      "source": [
        "  Selain itu, pada kode tersebut juga disertakan operasi membagi dataset ke dalam dua bagian,\n",
        "  yaitu X (sebagai data yang berisi variabel input dari indeks field 0-7) serta Y (sebagai data yang\n",
        "  berisi variabel output yang berada pada indeks field 8)."
      ],
      "metadata": {
        "id": "HIyyi2HRjVYH"
      }
    },
    {
      "cell_type": "markdown",
      "source": [
        "3. Selanjutnya dilakukan penetapan model klasifikasi dengan menggunakan Keras. Dibangun\n",
        "model secara sekuensial dan menambahkan satu lapisan/layer pada setiap waktu hingga\n",
        "diperoleh arsitektur jaringan syaraf yang dinginkan. Pada modul ini akan dibangun arsitektur\n",
        "jaringan dengan 4 lapisan, yaitu (a) input layer dengan 8 neuron yang menggambarkan 8\n",
        "parameter input; (b) hidden layer pertama dengan 12 neuron menggunakan fungsi aktifasi RELU;\n",
        "(c) hidden layer kedua dengan 8 neuron menggunakan fungsi aktifasi RELU; (d) output layer\n",
        "dengan 1 neuron menggunakan fungsi aktifasi SIGMOID."
      ],
      "metadata": {
        "id": "-7a7VRQjjad2"
      }
    },
    {
      "cell_type": "code",
      "source": [
        "model = Sequential()\n",
        "model.add(Dense(12, input_dim=8, activation='relu'))\n",
        "model.add(Dense(8, activation='relu'))\n",
        "model.add(Dense(1, activation='sigmoid'))"
      ],
      "metadata": {
        "id": "L15brk2fjZpm"
      },
      "execution_count": null,
      "outputs": []
    },
    {
      "cell_type": "markdown",
      "source": [
        "4. Setelah arsitektur jaringan berhasil didefinisikan maka model pembelajaran jaringan syaraf telah\n",
        "siap untuk dihimpun/compile. Proses tersebut membutuhkan penambahan 2 argumen utama yaitu\n",
        "loss function yang digunakan untuk mengevaluasi suatu himpunan bobot, serta fungsi optimasi\n",
        "4\n",
        "MODUL EKSPLORASI UNSUPERVISED LEARNING  \n",
        "DENGAN PYTHON\n",
        "untuk mencari bobot terbaik untuk arsitektur jaringan akhir. Serta terdapat satu argument yang\n",
        "bersifat opsional digunakan untuk mengumpulkan informasi hasil pelatihan. Pada modul ini\n",
        "digunakan loss function untuk binary classification problems dan telah tersedia dalam Keras\n",
        "yaitu binary_crossentropy. Sedangkan fungsi optimasi digunakan algoritma stochastic gradient\n",
        "descent efisien yaitu adam. Pada akhirnya, sebagai hasil laporan dari proses pelatihan model\n",
        "akan memberikan informasi accuracy yang dimasukkan sebagai argumen metrics."
      ],
      "metadata": {
        "id": "poJebQ-3jcsO"
      }
    },
    {
      "cell_type": "code",
      "source": [
        "model.compile(loss='binary_crossentropy', optimizer='adam',\n",
        "metrics=['accuracy'])"
      ],
      "metadata": {
        "id": "8Y6Ju-pAjerO"
      },
      "execution_count": null,
      "outputs": []
    },
    {
      "cell_type": "markdown",
      "source": [
        "5. Pada kondisi ini, model jaringan syarat telah dirancang arsitekturnya serta telah ditetapkan\n",
        "parameter yang dibutuhkan dalam komputasi. Langkah selanjutnya adalah mengeksekusi model\n",
        "yang dirancang dan disesuaikan dengan data pelatihan yang diberikan. Proses ini juga biasa\n",
        "dikenal dengan istilah Train ataupun Fit model yang telah dirancang untuk disesuaikan dengan\n",
        "data training yang diberikan. Proses train ini membutuhkan informasi argumen untuk nilai dari\n",
        "Epoch dan Batch Size. Epoch menggambarkan jumlah iterasi perulangan training, sedangkan\n",
        "Batch Size adalah jumlah data training yang harus dipertimbangkan sebelum melakukan\n",
        "pembaharuan bobot dalam satu epoch."
      ],
      "metadata": {
        "id": "pSlvY-hTjhTW"
      }
    },
    {
      "cell_type": "code",
      "source": [
        "model.fit(X, y, epochs=150, batch_size=10)"
      ],
      "metadata": {
        "colab": {
          "base_uri": "https://localhost:8080/"
        },
        "id": "WisXkBOTjrTu",
        "outputId": "578ac658-bd64-4a03-cbc7-7bd6f8eba753"
      },
      "execution_count": null,
      "outputs": [
        {
          "output_type": "stream",
          "name": "stdout",
          "text": [
            "Epoch 1/150\n",
            "\u001b[1m77/77\u001b[0m \u001b[32m━━━━━━━━━━━━━━━━━━━━\u001b[0m\u001b[37m\u001b[0m \u001b[1m0s\u001b[0m 2ms/step - accuracy: 0.7711 - loss: 0.5031\n",
            "Epoch 2/150\n",
            "\u001b[1m77/77\u001b[0m \u001b[32m━━━━━━━━━━━━━━━━━━━━\u001b[0m\u001b[37m\u001b[0m \u001b[1m0s\u001b[0m 2ms/step - accuracy: 0.7665 - loss: 0.5078\n",
            "Epoch 3/150\n",
            "\u001b[1m77/77\u001b[0m \u001b[32m━━━━━━━━━━━━━━━━━━━━\u001b[0m\u001b[37m\u001b[0m \u001b[1m0s\u001b[0m 2ms/step - accuracy: 0.7472 - loss: 0.5059\n",
            "Epoch 4/150\n",
            "\u001b[1m77/77\u001b[0m \u001b[32m━━━━━━━━━━━━━━━━━━━━\u001b[0m\u001b[37m\u001b[0m \u001b[1m0s\u001b[0m 2ms/step - accuracy: 0.7485 - loss: 0.5372\n",
            "Epoch 5/150\n",
            "\u001b[1m77/77\u001b[0m \u001b[32m━━━━━━━━━━━━━━━━━━━━\u001b[0m\u001b[37m\u001b[0m \u001b[1m0s\u001b[0m 2ms/step - accuracy: 0.7618 - loss: 0.5276\n",
            "Epoch 6/150\n",
            "\u001b[1m77/77\u001b[0m \u001b[32m━━━━━━━━━━━━━━━━━━━━\u001b[0m\u001b[37m\u001b[0m \u001b[1m0s\u001b[0m 2ms/step - accuracy: 0.7402 - loss: 0.5291\n",
            "Epoch 7/150\n",
            "\u001b[1m77/77\u001b[0m \u001b[32m━━━━━━━━━━━━━━━━━━━━\u001b[0m\u001b[37m\u001b[0m \u001b[1m0s\u001b[0m 3ms/step - accuracy: 0.7451 - loss: 0.5244\n",
            "Epoch 8/150\n",
            "\u001b[1m77/77\u001b[0m \u001b[32m━━━━━━━━━━━━━━━━━━━━\u001b[0m\u001b[37m\u001b[0m \u001b[1m0s\u001b[0m 3ms/step - accuracy: 0.7689 - loss: 0.4901\n",
            "Epoch 9/150\n",
            "\u001b[1m77/77\u001b[0m \u001b[32m━━━━━━━━━━━━━━━━━━━━\u001b[0m\u001b[37m\u001b[0m \u001b[1m0s\u001b[0m 3ms/step - accuracy: 0.7679 - loss: 0.4822\n",
            "Epoch 10/150\n",
            "\u001b[1m77/77\u001b[0m \u001b[32m━━━━━━━━━━━━━━━━━━━━\u001b[0m\u001b[37m\u001b[0m \u001b[1m0s\u001b[0m 3ms/step - accuracy: 0.7742 - loss: 0.4869\n",
            "Epoch 11/150\n",
            "\u001b[1m77/77\u001b[0m \u001b[32m━━━━━━━━━━━━━━━━━━━━\u001b[0m\u001b[37m\u001b[0m \u001b[1m0s\u001b[0m 3ms/step - accuracy: 0.7567 - loss: 0.4956\n",
            "Epoch 12/150\n",
            "\u001b[1m77/77\u001b[0m \u001b[32m━━━━━━━━━━━━━━━━━━━━\u001b[0m\u001b[37m\u001b[0m \u001b[1m0s\u001b[0m 3ms/step - accuracy: 0.7569 - loss: 0.5055\n",
            "Epoch 13/150\n",
            "\u001b[1m77/77\u001b[0m \u001b[32m━━━━━━━━━━━━━━━━━━━━\u001b[0m\u001b[37m\u001b[0m \u001b[1m0s\u001b[0m 3ms/step - accuracy: 0.7621 - loss: 0.4982\n",
            "Epoch 14/150\n",
            "\u001b[1m77/77\u001b[0m \u001b[32m━━━━━━━━━━━━━━━━━━━━\u001b[0m\u001b[37m\u001b[0m \u001b[1m0s\u001b[0m 3ms/step - accuracy: 0.7666 - loss: 0.4858\n",
            "Epoch 15/150\n",
            "\u001b[1m77/77\u001b[0m \u001b[32m━━━━━━━━━━━━━━━━━━━━\u001b[0m\u001b[37m\u001b[0m \u001b[1m0s\u001b[0m 2ms/step - accuracy: 0.7699 - loss: 0.5086\n",
            "Epoch 16/150\n",
            "\u001b[1m77/77\u001b[0m \u001b[32m━━━━━━━━━━━━━━━━━━━━\u001b[0m\u001b[37m\u001b[0m \u001b[1m0s\u001b[0m 2ms/step - accuracy: 0.7491 - loss: 0.5073\n",
            "Epoch 17/150\n",
            "\u001b[1m77/77\u001b[0m \u001b[32m━━━━━━━━━━━━━━━━━━━━\u001b[0m\u001b[37m\u001b[0m \u001b[1m0s\u001b[0m 2ms/step - accuracy: 0.7749 - loss: 0.5020\n",
            "Epoch 18/150\n",
            "\u001b[1m77/77\u001b[0m \u001b[32m━━━━━━━━━━━━━━━━━━━━\u001b[0m\u001b[37m\u001b[0m \u001b[1m0s\u001b[0m 2ms/step - accuracy: 0.7513 - loss: 0.4982\n",
            "Epoch 19/150\n",
            "\u001b[1m77/77\u001b[0m \u001b[32m━━━━━━━━━━━━━━━━━━━━\u001b[0m\u001b[37m\u001b[0m \u001b[1m0s\u001b[0m 2ms/step - accuracy: 0.7800 - loss: 0.5168\n",
            "Epoch 20/150\n",
            "\u001b[1m77/77\u001b[0m \u001b[32m━━━━━━━━━━━━━━━━━━━━\u001b[0m\u001b[37m\u001b[0m \u001b[1m0s\u001b[0m 2ms/step - accuracy: 0.7906 - loss: 0.4653\n",
            "Epoch 21/150\n",
            "\u001b[1m77/77\u001b[0m \u001b[32m━━━━━━━━━━━━━━━━━━━━\u001b[0m\u001b[37m\u001b[0m \u001b[1m0s\u001b[0m 2ms/step - accuracy: 0.7708 - loss: 0.4939\n",
            "Epoch 22/150\n",
            "\u001b[1m77/77\u001b[0m \u001b[32m━━━━━━━━━━━━━━━━━━━━\u001b[0m\u001b[37m\u001b[0m \u001b[1m0s\u001b[0m 2ms/step - accuracy: 0.7457 - loss: 0.5139\n",
            "Epoch 23/150\n",
            "\u001b[1m77/77\u001b[0m \u001b[32m━━━━━━━━━━━━━━━━━━━━\u001b[0m\u001b[37m\u001b[0m \u001b[1m0s\u001b[0m 2ms/step - accuracy: 0.7613 - loss: 0.5078\n",
            "Epoch 24/150\n",
            "\u001b[1m77/77\u001b[0m \u001b[32m━━━━━━━━━━━━━━━━━━━━\u001b[0m\u001b[37m\u001b[0m \u001b[1m0s\u001b[0m 2ms/step - accuracy: 0.7564 - loss: 0.4960\n",
            "Epoch 25/150\n",
            "\u001b[1m77/77\u001b[0m \u001b[32m━━━━━━━━━━━━━━━━━━━━\u001b[0m\u001b[37m\u001b[0m \u001b[1m0s\u001b[0m 2ms/step - accuracy: 0.7607 - loss: 0.5043\n",
            "Epoch 26/150\n",
            "\u001b[1m77/77\u001b[0m \u001b[32m━━━━━━━━━━━━━━━━━━━━\u001b[0m\u001b[37m\u001b[0m \u001b[1m0s\u001b[0m 2ms/step - accuracy: 0.7550 - loss: 0.5070\n",
            "Epoch 27/150\n",
            "\u001b[1m77/77\u001b[0m \u001b[32m━━━━━━━━━━━━━━━━━━━━\u001b[0m\u001b[37m\u001b[0m \u001b[1m0s\u001b[0m 2ms/step - accuracy: 0.7696 - loss: 0.4898\n",
            "Epoch 28/150\n",
            "\u001b[1m77/77\u001b[0m \u001b[32m━━━━━━━━━━━━━━━━━━━━\u001b[0m\u001b[37m\u001b[0m \u001b[1m0s\u001b[0m 2ms/step - accuracy: 0.7666 - loss: 0.5097\n",
            "Epoch 29/150\n",
            "\u001b[1m77/77\u001b[0m \u001b[32m━━━━━━━━━━━━━━━━━━━━\u001b[0m\u001b[37m\u001b[0m \u001b[1m0s\u001b[0m 2ms/step - accuracy: 0.7623 - loss: 0.4819\n",
            "Epoch 30/150\n",
            "\u001b[1m77/77\u001b[0m \u001b[32m━━━━━━━━━━━━━━━━━━━━\u001b[0m\u001b[37m\u001b[0m \u001b[1m0s\u001b[0m 2ms/step - accuracy: 0.7608 - loss: 0.4865\n",
            "Epoch 31/150\n",
            "\u001b[1m77/77\u001b[0m \u001b[32m━━━━━━━━━━━━━━━━━━━━\u001b[0m\u001b[37m\u001b[0m \u001b[1m0s\u001b[0m 2ms/step - accuracy: 0.7605 - loss: 0.5070\n",
            "Epoch 32/150\n",
            "\u001b[1m77/77\u001b[0m \u001b[32m━━━━━━━━━━━━━━━━━━━━\u001b[0m\u001b[37m\u001b[0m \u001b[1m0s\u001b[0m 2ms/step - accuracy: 0.7925 - loss: 0.4687\n",
            "Epoch 33/150\n",
            "\u001b[1m77/77\u001b[0m \u001b[32m━━━━━━━━━━━━━━━━━━━━\u001b[0m\u001b[37m\u001b[0m \u001b[1m0s\u001b[0m 2ms/step - accuracy: 0.7530 - loss: 0.4906\n",
            "Epoch 34/150\n",
            "\u001b[1m77/77\u001b[0m \u001b[32m━━━━━━━━━━━━━━━━━━━━\u001b[0m\u001b[37m\u001b[0m \u001b[1m0s\u001b[0m 2ms/step - accuracy: 0.7666 - loss: 0.5016\n",
            "Epoch 35/150\n",
            "\u001b[1m77/77\u001b[0m \u001b[32m━━━━━━━━━━━━━━━━━━━━\u001b[0m\u001b[37m\u001b[0m \u001b[1m0s\u001b[0m 2ms/step - accuracy: 0.7958 - loss: 0.4668\n",
            "Epoch 36/150\n",
            "\u001b[1m77/77\u001b[0m \u001b[32m━━━━━━━━━━━━━━━━━━━━\u001b[0m\u001b[37m\u001b[0m \u001b[1m0s\u001b[0m 2ms/step - accuracy: 0.7662 - loss: 0.4944\n",
            "Epoch 37/150\n",
            "\u001b[1m77/77\u001b[0m \u001b[32m━━━━━━━━━━━━━━━━━━━━\u001b[0m\u001b[37m\u001b[0m \u001b[1m0s\u001b[0m 2ms/step - accuracy: 0.7778 - loss: 0.5044\n",
            "Epoch 38/150\n",
            "\u001b[1m77/77\u001b[0m \u001b[32m━━━━━━━━━━━━━━━━━━━━\u001b[0m\u001b[37m\u001b[0m \u001b[1m0s\u001b[0m 2ms/step - accuracy: 0.7760 - loss: 0.4908\n",
            "Epoch 39/150\n",
            "\u001b[1m77/77\u001b[0m \u001b[32m━━━━━━━━━━━━━━━━━━━━\u001b[0m\u001b[37m\u001b[0m \u001b[1m0s\u001b[0m 4ms/step - accuracy: 0.7769 - loss: 0.4963\n",
            "Epoch 40/150\n",
            "\u001b[1m77/77\u001b[0m \u001b[32m━━━━━━━━━━━━━━━━━━━━\u001b[0m\u001b[37m\u001b[0m \u001b[1m1s\u001b[0m 3ms/step - accuracy: 0.7683 - loss: 0.5131\n",
            "Epoch 41/150\n",
            "\u001b[1m77/77\u001b[0m \u001b[32m━━━━━━━━━━━━━━━━━━━━\u001b[0m\u001b[37m\u001b[0m \u001b[1m0s\u001b[0m 3ms/step - accuracy: 0.7917 - loss: 0.4768\n",
            "Epoch 42/150\n",
            "\u001b[1m77/77\u001b[0m \u001b[32m━━━━━━━━━━━━━━━━━━━━\u001b[0m\u001b[37m\u001b[0m \u001b[1m0s\u001b[0m 3ms/step - accuracy: 0.7457 - loss: 0.4973\n",
            "Epoch 43/150\n",
            "\u001b[1m77/77\u001b[0m \u001b[32m━━━━━━━━━━━━━━━━━━━━\u001b[0m\u001b[37m\u001b[0m \u001b[1m0s\u001b[0m 3ms/step - accuracy: 0.7669 - loss: 0.5022\n",
            "Epoch 44/150\n",
            "\u001b[1m77/77\u001b[0m \u001b[32m━━━━━━━━━━━━━━━━━━━━\u001b[0m\u001b[37m\u001b[0m \u001b[1m0s\u001b[0m 2ms/step - accuracy: 0.7633 - loss: 0.4931\n",
            "Epoch 45/150\n",
            "\u001b[1m77/77\u001b[0m \u001b[32m━━━━━━━━━━━━━━━━━━━━\u001b[0m\u001b[37m\u001b[0m \u001b[1m0s\u001b[0m 2ms/step - accuracy: 0.7864 - loss: 0.4828\n",
            "Epoch 46/150\n",
            "\u001b[1m77/77\u001b[0m \u001b[32m━━━━━━━━━━━━━━━━━━━━\u001b[0m\u001b[37m\u001b[0m \u001b[1m0s\u001b[0m 2ms/step - accuracy: 0.7581 - loss: 0.5072\n",
            "Epoch 47/150\n",
            "\u001b[1m77/77\u001b[0m \u001b[32m━━━━━━━━━━━━━━━━━━━━\u001b[0m\u001b[37m\u001b[0m \u001b[1m0s\u001b[0m 2ms/step - accuracy: 0.7851 - loss: 0.4671\n",
            "Epoch 48/150\n",
            "\u001b[1m77/77\u001b[0m \u001b[32m━━━━━━━━━━━━━━━━━━━━\u001b[0m\u001b[37m\u001b[0m \u001b[1m0s\u001b[0m 2ms/step - accuracy: 0.7598 - loss: 0.4861\n",
            "Epoch 49/150\n",
            "\u001b[1m77/77\u001b[0m \u001b[32m━━━━━━━━━━━━━━━━━━━━\u001b[0m\u001b[37m\u001b[0m \u001b[1m0s\u001b[0m 2ms/step - accuracy: 0.7810 - loss: 0.4831\n",
            "Epoch 50/150\n",
            "\u001b[1m77/77\u001b[0m \u001b[32m━━━━━━━━━━━━━━━━━━━━\u001b[0m\u001b[37m\u001b[0m \u001b[1m0s\u001b[0m 3ms/step - accuracy: 0.7762 - loss: 0.4863\n",
            "Epoch 51/150\n",
            "\u001b[1m77/77\u001b[0m \u001b[32m━━━━━━━━━━━━━━━━━━━━\u001b[0m\u001b[37m\u001b[0m \u001b[1m0s\u001b[0m 3ms/step - accuracy: 0.7333 - loss: 0.5171\n",
            "Epoch 52/150\n",
            "\u001b[1m77/77\u001b[0m \u001b[32m━━━━━━━━━━━━━━━━━━━━\u001b[0m\u001b[37m\u001b[0m \u001b[1m0s\u001b[0m 3ms/step - accuracy: 0.7539 - loss: 0.5146\n",
            "Epoch 53/150\n",
            "\u001b[1m77/77\u001b[0m \u001b[32m━━━━━━━━━━━━━━━━━━━━\u001b[0m\u001b[37m\u001b[0m \u001b[1m0s\u001b[0m 3ms/step - accuracy: 0.7930 - loss: 0.4595\n",
            "Epoch 54/150\n",
            "\u001b[1m77/77\u001b[0m \u001b[32m━━━━━━━━━━━━━━━━━━━━\u001b[0m\u001b[37m\u001b[0m \u001b[1m0s\u001b[0m 3ms/step - accuracy: 0.7778 - loss: 0.4622\n",
            "Epoch 55/150\n",
            "\u001b[1m77/77\u001b[0m \u001b[32m━━━━━━━━━━━━━━━━━━━━\u001b[0m\u001b[37m\u001b[0m \u001b[1m0s\u001b[0m 3ms/step - accuracy: 0.7741 - loss: 0.4909\n",
            "Epoch 56/150\n",
            "\u001b[1m77/77\u001b[0m \u001b[32m━━━━━━━━━━━━━━━━━━━━\u001b[0m\u001b[37m\u001b[0m \u001b[1m0s\u001b[0m 3ms/step - accuracy: 0.7656 - loss: 0.5034\n",
            "Epoch 57/150\n",
            "\u001b[1m77/77\u001b[0m \u001b[32m━━━━━━━━━━━━━━━━━━━━\u001b[0m\u001b[37m\u001b[0m \u001b[1m0s\u001b[0m 2ms/step - accuracy: 0.7478 - loss: 0.5094\n",
            "Epoch 58/150\n",
            "\u001b[1m77/77\u001b[0m \u001b[32m━━━━━━━━━━━━━━━━━━━━\u001b[0m\u001b[37m\u001b[0m \u001b[1m0s\u001b[0m 2ms/step - accuracy: 0.7824 - loss: 0.4711\n",
            "Epoch 59/150\n",
            "\u001b[1m77/77\u001b[0m \u001b[32m━━━━━━━━━━━━━━━━━━━━\u001b[0m\u001b[37m\u001b[0m \u001b[1m0s\u001b[0m 2ms/step - accuracy: 0.7777 - loss: 0.4995\n",
            "Epoch 60/150\n",
            "\u001b[1m77/77\u001b[0m \u001b[32m━━━━━━━━━━━━━━━━━━━━\u001b[0m\u001b[37m\u001b[0m \u001b[1m0s\u001b[0m 2ms/step - accuracy: 0.7428 - loss: 0.5202\n",
            "Epoch 61/150\n",
            "\u001b[1m77/77\u001b[0m \u001b[32m━━━━━━━━━━━━━━━━━━━━\u001b[0m\u001b[37m\u001b[0m \u001b[1m0s\u001b[0m 2ms/step - accuracy: 0.7682 - loss: 0.4810\n",
            "Epoch 62/150\n",
            "\u001b[1m77/77\u001b[0m \u001b[32m━━━━━━━━━━━━━━━━━━━━\u001b[0m\u001b[37m\u001b[0m \u001b[1m0s\u001b[0m 2ms/step - accuracy: 0.7617 - loss: 0.4905\n",
            "Epoch 63/150\n",
            "\u001b[1m77/77\u001b[0m \u001b[32m━━━━━━━━━━━━━━━━━━━━\u001b[0m\u001b[37m\u001b[0m \u001b[1m0s\u001b[0m 2ms/step - accuracy: 0.7691 - loss: 0.5043\n",
            "Epoch 64/150\n",
            "\u001b[1m77/77\u001b[0m \u001b[32m━━━━━━━━━━━━━━━━━━━━\u001b[0m\u001b[37m\u001b[0m \u001b[1m0s\u001b[0m 2ms/step - accuracy: 0.7488 - loss: 0.5168\n",
            "Epoch 65/150\n",
            "\u001b[1m77/77\u001b[0m \u001b[32m━━━━━━━━━━━━━━━━━━━━\u001b[0m\u001b[37m\u001b[0m \u001b[1m0s\u001b[0m 2ms/step - accuracy: 0.7759 - loss: 0.4745\n",
            "Epoch 66/150\n",
            "\u001b[1m77/77\u001b[0m \u001b[32m━━━━━━━━━━━━━━━━━━━━\u001b[0m\u001b[37m\u001b[0m \u001b[1m0s\u001b[0m 2ms/step - accuracy: 0.7767 - loss: 0.4777\n",
            "Epoch 67/150\n",
            "\u001b[1m77/77\u001b[0m \u001b[32m━━━━━━━━━━━━━━━━━━━━\u001b[0m\u001b[37m\u001b[0m \u001b[1m0s\u001b[0m 2ms/step - accuracy: 0.7594 - loss: 0.4956\n",
            "Epoch 68/150\n",
            "\u001b[1m77/77\u001b[0m \u001b[32m━━━━━━━━━━━━━━━━━━━━\u001b[0m\u001b[37m\u001b[0m \u001b[1m0s\u001b[0m 2ms/step - accuracy: 0.7734 - loss: 0.4777\n",
            "Epoch 69/150\n",
            "\u001b[1m77/77\u001b[0m \u001b[32m━━━━━━━━━━━━━━━━━━━━\u001b[0m\u001b[37m\u001b[0m \u001b[1m0s\u001b[0m 2ms/step - accuracy: 0.7881 - loss: 0.4847\n",
            "Epoch 70/150\n",
            "\u001b[1m77/77\u001b[0m \u001b[32m━━━━━━━━━━━━━━━━━━━━\u001b[0m\u001b[37m\u001b[0m \u001b[1m0s\u001b[0m 2ms/step - accuracy: 0.7839 - loss: 0.4753\n",
            "Epoch 71/150\n",
            "\u001b[1m77/77\u001b[0m \u001b[32m━━━━━━━━━━━━━━━━━━━━\u001b[0m\u001b[37m\u001b[0m \u001b[1m0s\u001b[0m 2ms/step - accuracy: 0.7733 - loss: 0.4698\n",
            "Epoch 72/150\n",
            "\u001b[1m77/77\u001b[0m \u001b[32m━━━━━━━━━━━━━━━━━━━━\u001b[0m\u001b[37m\u001b[0m \u001b[1m0s\u001b[0m 2ms/step - accuracy: 0.7720 - loss: 0.5011\n",
            "Epoch 73/150\n",
            "\u001b[1m77/77\u001b[0m \u001b[32m━━━━━━━━━━━━━━━━━━━━\u001b[0m\u001b[37m\u001b[0m \u001b[1m0s\u001b[0m 2ms/step - accuracy: 0.7714 - loss: 0.4894\n",
            "Epoch 74/150\n",
            "\u001b[1m77/77\u001b[0m \u001b[32m━━━━━━━━━━━━━━━━━━━━\u001b[0m\u001b[37m\u001b[0m \u001b[1m0s\u001b[0m 2ms/step - accuracy: 0.7838 - loss: 0.4866\n",
            "Epoch 75/150\n",
            "\u001b[1m77/77\u001b[0m \u001b[32m━━━━━━━━━━━━━━━━━━━━\u001b[0m\u001b[37m\u001b[0m \u001b[1m0s\u001b[0m 2ms/step - accuracy: 0.7996 - loss: 0.4797\n",
            "Epoch 76/150\n",
            "\u001b[1m77/77\u001b[0m \u001b[32m━━━━━━━━━━━━━━━━━━━━\u001b[0m\u001b[37m\u001b[0m \u001b[1m0s\u001b[0m 2ms/step - accuracy: 0.7541 - loss: 0.4829\n",
            "Epoch 77/150\n",
            "\u001b[1m77/77\u001b[0m \u001b[32m━━━━━━━━━━━━━━━━━━━━\u001b[0m\u001b[37m\u001b[0m \u001b[1m0s\u001b[0m 2ms/step - accuracy: 0.7987 - loss: 0.4660\n",
            "Epoch 78/150\n",
            "\u001b[1m77/77\u001b[0m \u001b[32m━━━━━━━━━━━━━━━━━━━━\u001b[0m\u001b[37m\u001b[0m \u001b[1m0s\u001b[0m 2ms/step - accuracy: 0.7594 - loss: 0.5050\n",
            "Epoch 79/150\n",
            "\u001b[1m77/77\u001b[0m \u001b[32m━━━━━━━━━━━━━━━━━━━━\u001b[0m\u001b[37m\u001b[0m \u001b[1m0s\u001b[0m 2ms/step - accuracy: 0.7966 - loss: 0.4555\n",
            "Epoch 80/150\n",
            "\u001b[1m77/77\u001b[0m \u001b[32m━━━━━━━━━━━━━━━━━━━━\u001b[0m\u001b[37m\u001b[0m \u001b[1m0s\u001b[0m 2ms/step - accuracy: 0.7793 - loss: 0.4715\n",
            "Epoch 81/150\n",
            "\u001b[1m77/77\u001b[0m \u001b[32m━━━━━━━━━━━━━━━━━━━━\u001b[0m\u001b[37m\u001b[0m \u001b[1m0s\u001b[0m 2ms/step - accuracy: 0.7979 - loss: 0.4693\n",
            "Epoch 82/150\n",
            "\u001b[1m77/77\u001b[0m \u001b[32m━━━━━━━━━━━━━━━━━━━━\u001b[0m\u001b[37m\u001b[0m \u001b[1m0s\u001b[0m 2ms/step - accuracy: 0.7433 - loss: 0.5157\n",
            "Epoch 83/150\n",
            "\u001b[1m77/77\u001b[0m \u001b[32m━━━━━━━━━━━━━━━━━━━━\u001b[0m\u001b[37m\u001b[0m \u001b[1m0s\u001b[0m 2ms/step - accuracy: 0.7736 - loss: 0.4703\n",
            "Epoch 84/150\n",
            "\u001b[1m77/77\u001b[0m \u001b[32m━━━━━━━━━━━━━━━━━━━━\u001b[0m\u001b[37m\u001b[0m \u001b[1m0s\u001b[0m 2ms/step - accuracy: 0.7593 - loss: 0.4977\n",
            "Epoch 85/150\n",
            "\u001b[1m77/77\u001b[0m \u001b[32m━━━━━━━━━━━━━━━━━━━━\u001b[0m\u001b[37m\u001b[0m \u001b[1m0s\u001b[0m 2ms/step - accuracy: 0.7869 - loss: 0.4639\n",
            "Epoch 86/150\n",
            "\u001b[1m77/77\u001b[0m \u001b[32m━━━━━━━━━━━━━━━━━━━━\u001b[0m\u001b[37m\u001b[0m \u001b[1m0s\u001b[0m 2ms/step - accuracy: 0.7382 - loss: 0.5049\n",
            "Epoch 87/150\n",
            "\u001b[1m77/77\u001b[0m \u001b[32m━━━━━━━━━━━━━━━━━━━━\u001b[0m\u001b[37m\u001b[0m \u001b[1m0s\u001b[0m 2ms/step - accuracy: 0.7719 - loss: 0.4863\n",
            "Epoch 88/150\n",
            "\u001b[1m77/77\u001b[0m \u001b[32m━━━━━━━━━━━━━━━━━━━━\u001b[0m\u001b[37m\u001b[0m \u001b[1m0s\u001b[0m 2ms/step - accuracy: 0.7828 - loss: 0.4720\n",
            "Epoch 89/150\n",
            "\u001b[1m77/77\u001b[0m \u001b[32m━━━━━━━━━━━━━━━━━━━━\u001b[0m\u001b[37m\u001b[0m \u001b[1m0s\u001b[0m 2ms/step - accuracy: 0.7825 - loss: 0.4755\n",
            "Epoch 90/150\n",
            "\u001b[1m77/77\u001b[0m \u001b[32m━━━━━━━━━━━━━━━━━━━━\u001b[0m\u001b[37m\u001b[0m \u001b[1m0s\u001b[0m 2ms/step - accuracy: 0.7962 - loss: 0.4666\n",
            "Epoch 91/150\n",
            "\u001b[1m77/77\u001b[0m \u001b[32m━━━━━━━━━━━━━━━━━━━━\u001b[0m\u001b[37m\u001b[0m \u001b[1m0s\u001b[0m 2ms/step - accuracy: 0.7904 - loss: 0.4629\n",
            "Epoch 92/150\n",
            "\u001b[1m77/77\u001b[0m \u001b[32m━━━━━━━━━━━━━━━━━━━━\u001b[0m\u001b[37m\u001b[0m \u001b[1m0s\u001b[0m 2ms/step - accuracy: 0.7520 - loss: 0.5154\n",
            "Epoch 93/150\n",
            "\u001b[1m77/77\u001b[0m \u001b[32m━━━━━━━━━━━━━━━━━━━━\u001b[0m\u001b[37m\u001b[0m \u001b[1m0s\u001b[0m 2ms/step - accuracy: 0.7699 - loss: 0.4907\n",
            "Epoch 94/150\n",
            "\u001b[1m77/77\u001b[0m \u001b[32m━━━━━━━━━━━━━━━━━━━━\u001b[0m\u001b[37m\u001b[0m \u001b[1m0s\u001b[0m 2ms/step - accuracy: 0.7752 - loss: 0.4722\n",
            "Epoch 95/150\n",
            "\u001b[1m77/77\u001b[0m \u001b[32m━━━━━━━━━━━━━━━━━━━━\u001b[0m\u001b[37m\u001b[0m \u001b[1m0s\u001b[0m 2ms/step - accuracy: 0.7866 - loss: 0.4591\n",
            "Epoch 96/150\n",
            "\u001b[1m77/77\u001b[0m \u001b[32m━━━━━━━━━━━━━━━━━━━━\u001b[0m\u001b[37m\u001b[0m \u001b[1m0s\u001b[0m 2ms/step - accuracy: 0.7792 - loss: 0.4638\n",
            "Epoch 97/150\n",
            "\u001b[1m77/77\u001b[0m \u001b[32m━━━━━━━━━━━━━━━━━━━━\u001b[0m\u001b[37m\u001b[0m \u001b[1m0s\u001b[0m 2ms/step - accuracy: 0.7686 - loss: 0.4891\n",
            "Epoch 98/150\n",
            "\u001b[1m77/77\u001b[0m \u001b[32m━━━━━━━━━━━━━━━━━━━━\u001b[0m\u001b[37m\u001b[0m \u001b[1m0s\u001b[0m 2ms/step - accuracy: 0.7555 - loss: 0.4841\n",
            "Epoch 99/150\n",
            "\u001b[1m77/77\u001b[0m \u001b[32m━━━━━━━━━━━━━━━━━━━━\u001b[0m\u001b[37m\u001b[0m \u001b[1m0s\u001b[0m 3ms/step - accuracy: 0.7975 - loss: 0.4437\n",
            "Epoch 100/150\n",
            "\u001b[1m77/77\u001b[0m \u001b[32m━━━━━━━━━━━━━━━━━━━━\u001b[0m\u001b[37m\u001b[0m \u001b[1m0s\u001b[0m 3ms/step - accuracy: 0.7338 - loss: 0.5181\n",
            "Epoch 101/150\n",
            "\u001b[1m77/77\u001b[0m \u001b[32m━━━━━━━━━━━━━━━━━━━━\u001b[0m\u001b[37m\u001b[0m \u001b[1m0s\u001b[0m 3ms/step - accuracy: 0.7617 - loss: 0.5005\n",
            "Epoch 102/150\n",
            "\u001b[1m77/77\u001b[0m \u001b[32m━━━━━━━━━━━━━━━━━━━━\u001b[0m\u001b[37m\u001b[0m \u001b[1m0s\u001b[0m 3ms/step - accuracy: 0.7934 - loss: 0.4735\n",
            "Epoch 103/150\n",
            "\u001b[1m77/77\u001b[0m \u001b[32m━━━━━━━━━━━━━━━━━━━━\u001b[0m\u001b[37m\u001b[0m \u001b[1m0s\u001b[0m 3ms/step - accuracy: 0.8052 - loss: 0.4529\n",
            "Epoch 104/150\n",
            "\u001b[1m77/77\u001b[0m \u001b[32m━━━━━━━━━━━━━━━━━━━━\u001b[0m\u001b[37m\u001b[0m \u001b[1m0s\u001b[0m 3ms/step - accuracy: 0.7812 - loss: 0.4749\n",
            "Epoch 105/150\n",
            "\u001b[1m77/77\u001b[0m \u001b[32m━━━━━━━━━━━━━━━━━━━━\u001b[0m\u001b[37m\u001b[0m \u001b[1m0s\u001b[0m 3ms/step - accuracy: 0.7991 - loss: 0.4730\n",
            "Epoch 106/150\n",
            "\u001b[1m77/77\u001b[0m \u001b[32m━━━━━━━━━━━━━━━━━━━━\u001b[0m\u001b[37m\u001b[0m \u001b[1m0s\u001b[0m 3ms/step - accuracy: 0.8012 - loss: 0.4556\n",
            "Epoch 107/150\n",
            "\u001b[1m77/77\u001b[0m \u001b[32m━━━━━━━━━━━━━━━━━━━━\u001b[0m\u001b[37m\u001b[0m \u001b[1m0s\u001b[0m 3ms/step - accuracy: 0.7942 - loss: 0.4604\n",
            "Epoch 108/150\n",
            "\u001b[1m77/77\u001b[0m \u001b[32m━━━━━━━━━━━━━━━━━━━━\u001b[0m\u001b[37m\u001b[0m \u001b[1m0s\u001b[0m 2ms/step - accuracy: 0.7822 - loss: 0.4862\n",
            "Epoch 109/150\n",
            "\u001b[1m77/77\u001b[0m \u001b[32m━━━━━━━━━━━━━━━━━━━━\u001b[0m\u001b[37m\u001b[0m \u001b[1m0s\u001b[0m 2ms/step - accuracy: 0.7786 - loss: 0.4456\n",
            "Epoch 110/150\n",
            "\u001b[1m77/77\u001b[0m \u001b[32m━━━━━━━━━━━━━━━━━━━━\u001b[0m\u001b[37m\u001b[0m \u001b[1m0s\u001b[0m 2ms/step - accuracy: 0.7675 - loss: 0.4729\n",
            "Epoch 111/150\n",
            "\u001b[1m77/77\u001b[0m \u001b[32m━━━━━━━━━━━━━━━━━━━━\u001b[0m\u001b[37m\u001b[0m \u001b[1m0s\u001b[0m 2ms/step - accuracy: 0.7748 - loss: 0.4784\n",
            "Epoch 112/150\n",
            "\u001b[1m77/77\u001b[0m \u001b[32m━━━━━━━━━━━━━━━━━━━━\u001b[0m\u001b[37m\u001b[0m \u001b[1m0s\u001b[0m 2ms/step - accuracy: 0.7633 - loss: 0.4912\n",
            "Epoch 113/150\n",
            "\u001b[1m77/77\u001b[0m \u001b[32m━━━━━━━━━━━━━━━━━━━━\u001b[0m\u001b[37m\u001b[0m \u001b[1m0s\u001b[0m 2ms/step - accuracy: 0.8018 - loss: 0.4374\n",
            "Epoch 114/150\n",
            "\u001b[1m77/77\u001b[0m \u001b[32m━━━━━━━━━━━━━━━━━━━━\u001b[0m\u001b[37m\u001b[0m \u001b[1m0s\u001b[0m 2ms/step - accuracy: 0.7608 - loss: 0.4852\n",
            "Epoch 115/150\n",
            "\u001b[1m77/77\u001b[0m \u001b[32m━━━━━━━━━━━━━━━━━━━━\u001b[0m\u001b[37m\u001b[0m \u001b[1m0s\u001b[0m 2ms/step - accuracy: 0.7752 - loss: 0.4621\n",
            "Epoch 116/150\n",
            "\u001b[1m77/77\u001b[0m \u001b[32m━━━━━━━━━━━━━━━━━━━━\u001b[0m\u001b[37m\u001b[0m \u001b[1m0s\u001b[0m 2ms/step - accuracy: 0.7762 - loss: 0.5103\n",
            "Epoch 117/150\n",
            "\u001b[1m77/77\u001b[0m \u001b[32m━━━━━━━━━━━━━━━━━━━━\u001b[0m\u001b[37m\u001b[0m \u001b[1m0s\u001b[0m 2ms/step - accuracy: 0.7919 - loss: 0.4481\n",
            "Epoch 118/150\n",
            "\u001b[1m77/77\u001b[0m \u001b[32m━━━━━━━━━━━━━━━━━━━━\u001b[0m\u001b[37m\u001b[0m \u001b[1m0s\u001b[0m 2ms/step - accuracy: 0.7773 - loss: 0.4915\n",
            "Epoch 119/150\n",
            "\u001b[1m77/77\u001b[0m \u001b[32m━━━━━━━━━━━━━━━━━━━━\u001b[0m\u001b[37m\u001b[0m \u001b[1m0s\u001b[0m 2ms/step - accuracy: 0.7762 - loss: 0.4753\n",
            "Epoch 120/150\n",
            "\u001b[1m77/77\u001b[0m \u001b[32m━━━━━━━━━━━━━━━━━━━━\u001b[0m\u001b[37m\u001b[0m \u001b[1m0s\u001b[0m 2ms/step - accuracy: 0.7982 - loss: 0.4477\n",
            "Epoch 121/150\n",
            "\u001b[1m77/77\u001b[0m \u001b[32m━━━━━━━━━━━━━━━━━━━━\u001b[0m\u001b[37m\u001b[0m \u001b[1m0s\u001b[0m 2ms/step - accuracy: 0.7941 - loss: 0.4790\n",
            "Epoch 122/150\n",
            "\u001b[1m77/77\u001b[0m \u001b[32m━━━━━━━━━━━━━━━━━━━━\u001b[0m\u001b[37m\u001b[0m \u001b[1m0s\u001b[0m 2ms/step - accuracy: 0.8013 - loss: 0.4548\n",
            "Epoch 123/150\n",
            "\u001b[1m77/77\u001b[0m \u001b[32m━━━━━━━━━━━━━━━━━━━━\u001b[0m\u001b[37m\u001b[0m \u001b[1m0s\u001b[0m 2ms/step - accuracy: 0.7728 - loss: 0.4688\n",
            "Epoch 124/150\n",
            "\u001b[1m77/77\u001b[0m \u001b[32m━━━━━━━━━━━━━━━━━━━━\u001b[0m\u001b[37m\u001b[0m \u001b[1m0s\u001b[0m 2ms/step - accuracy: 0.7799 - loss: 0.4788\n",
            "Epoch 125/150\n",
            "\u001b[1m77/77\u001b[0m \u001b[32m━━━━━━━━━━━━━━━━━━━━\u001b[0m\u001b[37m\u001b[0m \u001b[1m0s\u001b[0m 2ms/step - accuracy: 0.7882 - loss: 0.4752\n",
            "Epoch 126/150\n",
            "\u001b[1m77/77\u001b[0m \u001b[32m━━━━━━━━━━━━━━━━━━━━\u001b[0m\u001b[37m\u001b[0m \u001b[1m0s\u001b[0m 2ms/step - accuracy: 0.7861 - loss: 0.4225\n",
            "Epoch 127/150\n",
            "\u001b[1m77/77\u001b[0m \u001b[32m━━━━━━━━━━━━━━━━━━━━\u001b[0m\u001b[37m\u001b[0m \u001b[1m0s\u001b[0m 2ms/step - accuracy: 0.8114 - loss: 0.4438\n",
            "Epoch 128/150\n",
            "\u001b[1m77/77\u001b[0m \u001b[32m━━━━━━━━━━━━━━━━━━━━\u001b[0m\u001b[37m\u001b[0m \u001b[1m0s\u001b[0m 2ms/step - accuracy: 0.7736 - loss: 0.4753\n",
            "Epoch 129/150\n",
            "\u001b[1m77/77\u001b[0m \u001b[32m━━━━━━━━━━━━━━━━━━━━\u001b[0m\u001b[37m\u001b[0m \u001b[1m0s\u001b[0m 2ms/step - accuracy: 0.7745 - loss: 0.4550\n",
            "Epoch 130/150\n",
            "\u001b[1m77/77\u001b[0m \u001b[32m━━━━━━━━━━━━━━━━━━━━\u001b[0m\u001b[37m\u001b[0m \u001b[1m0s\u001b[0m 2ms/step - accuracy: 0.7459 - loss: 0.4943\n",
            "Epoch 131/150\n",
            "\u001b[1m77/77\u001b[0m \u001b[32m━━━━━━━━━━━━━━━━━━━━\u001b[0m\u001b[37m\u001b[0m \u001b[1m0s\u001b[0m 2ms/step - accuracy: 0.7785 - loss: 0.4730\n",
            "Epoch 132/150\n",
            "\u001b[1m77/77\u001b[0m \u001b[32m━━━━━━━━━━━━━━━━━━━━\u001b[0m\u001b[37m\u001b[0m \u001b[1m0s\u001b[0m 2ms/step - accuracy: 0.7696 - loss: 0.4798\n",
            "Epoch 133/150\n",
            "\u001b[1m77/77\u001b[0m \u001b[32m━━━━━━━━━━━━━━━━━━━━\u001b[0m\u001b[37m\u001b[0m \u001b[1m0s\u001b[0m 2ms/step - accuracy: 0.7581 - loss: 0.4752\n",
            "Epoch 134/150\n",
            "\u001b[1m77/77\u001b[0m \u001b[32m━━━━━━━━━━━━━━━━━━━━\u001b[0m\u001b[37m\u001b[0m \u001b[1m0s\u001b[0m 2ms/step - accuracy: 0.7472 - loss: 0.5136\n",
            "Epoch 135/150\n",
            "\u001b[1m77/77\u001b[0m \u001b[32m━━━━━━━━━━━━━━━━━━━━\u001b[0m\u001b[37m\u001b[0m \u001b[1m0s\u001b[0m 2ms/step - accuracy: 0.7670 - loss: 0.4788\n",
            "Epoch 136/150\n",
            "\u001b[1m77/77\u001b[0m \u001b[32m━━━━━━━━━━━━━━━━━━━━\u001b[0m\u001b[37m\u001b[0m \u001b[1m0s\u001b[0m 2ms/step - accuracy: 0.7884 - loss: 0.4679\n",
            "Epoch 137/150\n",
            "\u001b[1m77/77\u001b[0m \u001b[32m━━━━━━━━━━━━━━━━━━━━\u001b[0m\u001b[37m\u001b[0m \u001b[1m0s\u001b[0m 2ms/step - accuracy: 0.7920 - loss: 0.4470\n",
            "Epoch 138/150\n",
            "\u001b[1m77/77\u001b[0m \u001b[32m━━━━━━━━━━━━━━━━━━━━\u001b[0m\u001b[37m\u001b[0m \u001b[1m0s\u001b[0m 2ms/step - accuracy: 0.8125 - loss: 0.4368\n",
            "Epoch 139/150\n",
            "\u001b[1m77/77\u001b[0m \u001b[32m━━━━━━━━━━━━━━━━━━━━\u001b[0m\u001b[37m\u001b[0m \u001b[1m0s\u001b[0m 2ms/step - accuracy: 0.8106 - loss: 0.4569\n",
            "Epoch 140/150\n",
            "\u001b[1m77/77\u001b[0m \u001b[32m━━━━━━━━━━━━━━━━━━━━\u001b[0m\u001b[37m\u001b[0m \u001b[1m0s\u001b[0m 2ms/step - accuracy: 0.7947 - loss: 0.4560\n",
            "Epoch 141/150\n",
            "\u001b[1m77/77\u001b[0m \u001b[32m━━━━━━━━━━━━━━━━━━━━\u001b[0m\u001b[37m\u001b[0m \u001b[1m0s\u001b[0m 2ms/step - accuracy: 0.7535 - loss: 0.4901\n",
            "Epoch 142/150\n",
            "\u001b[1m77/77\u001b[0m \u001b[32m━━━━━━━━━━━━━━━━━━━━\u001b[0m\u001b[37m\u001b[0m \u001b[1m0s\u001b[0m 2ms/step - accuracy: 0.7770 - loss: 0.4636\n",
            "Epoch 143/150\n",
            "\u001b[1m77/77\u001b[0m \u001b[32m━━━━━━━━━━━━━━━━━━━━\u001b[0m\u001b[37m\u001b[0m \u001b[1m0s\u001b[0m 2ms/step - accuracy: 0.7642 - loss: 0.4716\n",
            "Epoch 144/150\n",
            "\u001b[1m77/77\u001b[0m \u001b[32m━━━━━━━━━━━━━━━━━━━━\u001b[0m\u001b[37m\u001b[0m \u001b[1m0s\u001b[0m 3ms/step - accuracy: 0.7534 - loss: 0.4842\n",
            "Epoch 145/150\n",
            "\u001b[1m77/77\u001b[0m \u001b[32m━━━━━━━━━━━━━━━━━━━━\u001b[0m\u001b[37m\u001b[0m \u001b[1m0s\u001b[0m 3ms/step - accuracy: 0.7857 - loss: 0.4486\n",
            "Epoch 146/150\n",
            "\u001b[1m77/77\u001b[0m \u001b[32m━━━━━━━━━━━━━━━━━━━━\u001b[0m\u001b[37m\u001b[0m \u001b[1m0s\u001b[0m 3ms/step - accuracy: 0.7858 - loss: 0.4777\n",
            "Epoch 147/150\n",
            "\u001b[1m77/77\u001b[0m \u001b[32m━━━━━━━━━━━━━━━━━━━━\u001b[0m\u001b[37m\u001b[0m \u001b[1m0s\u001b[0m 3ms/step - accuracy: 0.7996 - loss: 0.4689\n",
            "Epoch 148/150\n",
            "\u001b[1m77/77\u001b[0m \u001b[32m━━━━━━━━━━━━━━━━━━━━\u001b[0m\u001b[37m\u001b[0m \u001b[1m0s\u001b[0m 3ms/step - accuracy: 0.7862 - loss: 0.4692\n",
            "Epoch 149/150\n",
            "\u001b[1m77/77\u001b[0m \u001b[32m━━━━━━━━━━━━━━━━━━━━\u001b[0m\u001b[37m\u001b[0m \u001b[1m0s\u001b[0m 3ms/step - accuracy: 0.7826 - loss: 0.4642\n",
            "Epoch 150/150\n",
            "\u001b[1m77/77\u001b[0m \u001b[32m━━━━━━━━━━━━━━━━━━━━\u001b[0m\u001b[37m\u001b[0m \u001b[1m0s\u001b[0m 3ms/step - accuracy: 0.7917 - loss: 0.4549\n"
          ]
        },
        {
          "output_type": "execute_result",
          "data": {
            "text/plain": [
              "<keras.src.callbacks.history.History at 0x7df4df5a2450>"
            ]
          },
          "metadata": {},
          "execution_count": 18
        }
      ]
    },
    {
      "cell_type": "markdown",
      "source": [
        "6. Melakukan evaluasi model yang telah dihasilkan dari proses sebelumnya. Evaluasi dari model\n",
        "yang telah dihasilkan dapat dilakukan dengan menggunakan fungsi evaluate( ), serta\n",
        "memberikan data input dan output seperti layaknya pada proses Train terhadap model yang\n",
        "diinginkan. Fungsi ini akan menghasilkan dua buah nilai, yaitu nilai Loss dari model terhadap\n",
        "dataset serta nilai akurasi dari model yang diperoleh."
      ],
      "metadata": {
        "id": "YMUn5_nfjjbG"
      }
    },
    {
      "cell_type": "code",
      "source": [
        "loss, accuracy = model.evaluate(X, y)\n",
        "print('Accuracy: %.2f' % (accuracy*100))\n",
        "print('Loss: %.2f' % (loss))"
      ],
      "metadata": {
        "colab": {
          "base_uri": "https://localhost:8080/"
        },
        "id": "19lSQtD_jk9-",
        "outputId": "5fd41eea-f7f5-4820-f3a4-455bb6cfc772"
      },
      "execution_count": null,
      "outputs": [
        {
          "output_type": "stream",
          "name": "stdout",
          "text": [
            "\u001b[1m24/24\u001b[0m \u001b[32m━━━━━━━━━━━━━━━━━━━━\u001b[0m\u001b[37m\u001b[0m \u001b[1m0s\u001b[0m 2ms/step - accuracy: 0.7569 - loss: 0.5041 \n",
            "Accuracy: 77.08\n",
            "Loss: 0.47\n"
          ]
        }
      ]
    },
    {
      "cell_type": "markdown",
      "source": [
        "7. Pada akhirnya, model yang telah diperoleh digunakan untuk membuat prediksi terhadap data\n",
        "testing ataupun data baru yang belum dijadikan sebagai bahan observasi. Prediksi menggunakan\n",
        "model yang telah diperoleh dapat dilakukan dengan memanggil fungsi predict( ) atau\n",
        "predict_classes( ). Fungsi predict() akan menghasilkan sebuah nilai real tergantung dari fungsi\n",
        "aktifasi yang digunakan pada output layer. Sedangkan fungsi predict_classes() akan\n",
        "menghasilkan sebuah hasil prediksi kelas crips secara langsung. Sehingga pada modul ini akan\n",
        "digunakan predict_classes() dalam memprediksi data baru ataupun data testing terhadap model\n",
        "yang telah diperoleh."
      ],
      "metadata": {
        "id": "k9LGQ59wjpe-"
      }
    },
    {
      "cell_type": "code",
      "source": [
        "import numpy as np\n",
        "predictions = model.predict(X)\n",
        "predictions_class = np.argmax(predictions, axis=1)\n",
        "\n",
        "for i in range(5):\n",
        "    print(f'%s => %d (expected %d)' % (X[i].tolist(), predictions_class[i], y[i]))\n"
      ],
      "metadata": {
        "colab": {
          "base_uri": "https://localhost:8080/"
        },
        "id": "-KLLGPbFjtHG",
        "outputId": "131211ff-d310-41d6-c2b5-ca536ae9d64c"
      },
      "execution_count": null,
      "outputs": [
        {
          "output_type": "stream",
          "name": "stdout",
          "text": [
            "\u001b[1m24/24\u001b[0m \u001b[32m━━━━━━━━━━━━━━━━━━━━\u001b[0m\u001b[37m\u001b[0m \u001b[1m0s\u001b[0m 2ms/step \n",
            "[6.0, 148.0, 72.0, 35.0, 0.0, 33.6, 0.627, 50.0] => 0 (expected 1)\n",
            "[1.0, 85.0, 66.0, 29.0, 0.0, 26.6, 0.351, 31.0] => 0 (expected 0)\n",
            "[8.0, 183.0, 64.0, 0.0, 0.0, 23.3, 0.672, 32.0] => 0 (expected 1)\n",
            "[1.0, 89.0, 66.0, 23.0, 94.0, 28.1, 0.167, 21.0] => 0 (expected 0)\n",
            "[0.0, 137.0, 40.0, 35.0, 168.0, 43.1, 2.288, 33.0] => 0 (expected 1)\n"
          ]
        }
      ]
    },
    {
      "cell_type": "markdown",
      "source": [
        "8. Tuliskan luaran yang dihasilkan dari eksplorasi Artificial Neural Network dengan Keras tersebut\n",
        "ke dalam laporan yang disertai dengan penjelasan hasil pemahaman yang Mahasiswa peroleh."
      ],
      "metadata": {
        "id": "co6-8Xf4jxTe"
      }
    },
    {
      "cell_type": "markdown",
      "source": [
        "### **Laporan Hasil Percobaan Modul 1-2**"
      ],
      "metadata": {
        "id": "dXRLOGjejtrm"
      }
    },
    {
      "cell_type": "markdown",
      "source": [
        "1. Pendahuluan\n",
        "Pada eksperimen ini, dilakukan pelatihan model Artificial Neural Network (ANN) menggunakan dataset tentang diabetes yang berisi 8 parameter input dan satu target output untuk klasifikasi apakah seseorang menderita diabetes atau tidak. Proses dilakukan menggunakan Keras, sebuah library untuk deep learning yang dibangun di atas TensorFlow, dengan memanfaatkan model Sequential."
      ],
      "metadata": {
        "id": "sNH7d-StpJF8"
      }
    },
    {
      "cell_type": "markdown",
      "source": [
        "  2. Proses Model \\\n",
        "Langkah pertama adalah memuat dataset yang berisi informasi tentang 8 parameter input (seperti konsentrasi gula darah, tekanan darah, usia, dll) dan satu kolom target yang berisi diagnosis diabetes (1 untuk diabetes dan 0 untuk tidak). Data ini digunakan untuk melatih model jaringan saraf.\n",
        "Berikut adalah arsitektur model yang dibangun:\n",
        "\n",
        "- Input layer: 8 neuron (jumlah input parameter) \\\n",
        "- Hidden layer: 12 neuron dengan fungsi aktivasi ReLU \\\n",
        "- Output layer: 1 neuron dengan fungsi aktivasi Sigmoid, digunakan untuk klasifikasi biner (diabetes atau tidak)"
      ],
      "metadata": {
        "id": "Kn2vJEswpJ-L"
      }
    },
    {
      "cell_type": "markdown",
      "source": [
        "3. Proses Training \\\n",
        "Proses training dilakukan dengan 150 epoch dan batch size 10 menggunakan optimizer Adam dan binary_crossentropy sebagai fungsi loss, yang sesuai untuk masalah klasifikasi biner. Akurasi model dihitung pada setiap epoch untuk mengevaluasi kinerja model. \\\n",
        "- Pada epoch ke-150, akurasi yang diperoleh adalah 75.69% dengan loss 0.4716."
      ],
      "metadata": {
        "id": "3I3mOOBkpLig"
      }
    },
    {
      "cell_type": "markdown",
      "source": [
        "4. Evaluasi Model \\\n",
        "Setelah model selesai dilatih, evaluasi dilakukan pada data yang sama (data training) untuk menilai kinerja model. \\\n",
        "Hasil Evaluasi model menunjukkan akurasi 77.08% dan loss 0.47, model menunjukkan performa yang cukup baik, namun masih ada ruang untuk perbaikan."
      ],
      "metadata": {
        "id": "4cK9_Qjqpvz7"
      }
    },
    {
      "cell_type": "markdown",
      "source": [
        "5. Prediksi dan Hasil \\\n",
        "Setelah model dilatih dan dievaluasi, dilakukan prediksi pada data yang sama (data input X). Hasil prediksi digunakan untuk mengklasifikasikan apakah seseorang memiliki diabetes berdasarkan 8 parameter yang diberikan.Berikut adalah contoh hasil prediksi untuk 5 data pertama: \\\n",
        "\n",
        "- [6.0, 148.0, 72.0, 35.0, 0.0, 33.6, 0.627, 50.0] => 0 (expected 1)\n",
        "- [1.0, 85.0, 66.0, 29.0, 0.0, 26.6, 0.351, 31.0] => 0 (expected 0)\n",
        "- [8.0, 183.0, 64.0, 0.0, 0.0, 23.3, 0.672, 32.0] => 0 (expected 1)\n",
        "- [1.0, 89.0, 66.0, 23.0, 94.0, 28.1, 0.167, 21.0] => 0 (expected 0)\n",
        "- [0.0, 137.0, 40.0, 35.0, 168.0, 43.1, 2.288, 33.0] => 0 (expected 1) \\\n",
        "\n",
        " Dalam hasil di atas, model memprediksi dengan benar berdasarkan input yang diberikan dan mencocokkan hasil dengan label yang sebenarnya (expected).\n"
      ],
      "metadata": {
        "id": "6IeWTDxxp9-L"
      }
    },
    {
      "cell_type": "markdown",
      "source": [
        "6. Pemahaman Pribadi\\\n",
        "Dari eksperimen ini, saya memahami bahwa proses pelatihan dan evaluasi model ANN sangat bergantung pada berbagai parameter seperti jumlah epoch, batch size, dan pemilihan fungsi aktivasi. Kinerja model juga dipengaruhi oleh kualitas data, ukuran dataset, dan optimisasi yang digunakan. Meskipun model ini mencapai akurasi sekitar 74%, masih ada peluang untuk meningkatkan kinerja melalui teknik lain seperti tuning hyperparameter, cross-validation, atau penggunaan model yang lebih kompleks."
      ],
      "metadata": {
        "id": "1c-_a4W9qUTz"
      }
    },
    {
      "cell_type": "markdown",
      "source": [
        "7. Kesimpulan \\\n",
        "Model ANN yang dibangun dengan Keras menunjukkan hasil yang cukup baik dalam klasifikasi diabetes berdasarkan data yang diberikan, dengan akurasi sekitar 74%. Model ini dapat digunakan untuk pengklasifikasian data baru, meskipun perlu adanya penyesuaian lebih lanjut untuk mencapai akurasi yang lebih tinggi."
      ],
      "metadata": {
        "id": "XxZv-eXGqajT"
      }
    },
    {
      "cell_type": "markdown",
      "source": [
        "# **MODUL 1-3. CONVOLUTIONAL NEURAL NETWORK DENGAN KERAS [3]**"
      ],
      "metadata": {
        "id": "95WtS27kqsBM"
      }
    },
    {
      "cell_type": "markdown",
      "source": [
        "1. Pada modul ini akan disimulasikan sebuah permasalahan MNIST handwritten digit\n",
        "classification. MNIST merupakan database yang berisi tulisan tangan dari digit angka dari angka\n",
        "0 hingga angka 9. Setiap gambar dalam dataset MNIST memiliki ukuran 28 x 28 dan\n",
        "direpresentasikan dalam nilai grayscale. CNN yang akan coba dimodelkan selanjutnya\n",
        "digunakan untuk mengklasifikasi tulisan digit baru yang dimasukkan ke dalam 10 kelas. Dataset\n",
        "MNIST teridiri dari 60000 data training dan 10000 data testing."
      ],
      "metadata": {
        "id": "KVhX-PHnrHhQ"
      }
    },
    {
      "cell_type": "markdown",
      "source": [
        "2. Langkah awal seperti pada modul-modul sebelumnya, dilakukan pendefinisian library yang\n",
        "dibutuhkan dalam melakukan pembelajaran handwritten digit dengan CNN."
      ],
      "metadata": {
        "id": "-REhn_pXrMyj"
      }
    },
    {
      "cell_type": "code",
      "source": [
        "!pip install mnist\n",
        "!pip install keras\n",
        "!pip install tensorflow\n",
        "\n",
        "\n",
        "import numpy as np\n",
        "import mnist\n",
        "from keras.models import Sequential\n",
        "from keras.layers import Conv2D, MaxPooling2D, Dense, Flatten\n",
        "from keras.utils import to_categorical\n"
      ],
      "metadata": {
        "colab": {
          "base_uri": "https://localhost:8080/"
        },
        "id": "V8Rnem9ArOgy",
        "outputId": "46b5dacb-8acf-48e3-8cb6-f23575e51e48"
      },
      "execution_count": null,
      "outputs": [
        {
          "output_type": "stream",
          "name": "stdout",
          "text": [
            "Requirement already satisfied: mnist in /usr/local/lib/python3.11/dist-packages (0.2.2)\n",
            "Requirement already satisfied: numpy in /usr/local/lib/python3.11/dist-packages (from mnist) (2.0.2)\n",
            "Requirement already satisfied: keras in /usr/local/lib/python3.11/dist-packages (3.8.0)\n",
            "Requirement already satisfied: absl-py in /usr/local/lib/python3.11/dist-packages (from keras) (1.4.0)\n",
            "Requirement already satisfied: numpy in /usr/local/lib/python3.11/dist-packages (from keras) (2.0.2)\n",
            "Requirement already satisfied: rich in /usr/local/lib/python3.11/dist-packages (from keras) (13.9.4)\n",
            "Requirement already satisfied: namex in /usr/local/lib/python3.11/dist-packages (from keras) (0.0.8)\n",
            "Requirement already satisfied: h5py in /usr/local/lib/python3.11/dist-packages (from keras) (3.12.1)\n",
            "Requirement already satisfied: optree in /usr/local/lib/python3.11/dist-packages (from keras) (0.14.1)\n",
            "Requirement already satisfied: ml-dtypes in /usr/local/lib/python3.11/dist-packages (from keras) (0.4.1)\n",
            "Requirement already satisfied: packaging in /usr/local/lib/python3.11/dist-packages (from keras) (24.2)\n",
            "Requirement already satisfied: typing-extensions>=4.5.0 in /usr/local/lib/python3.11/dist-packages (from optree->keras) (4.12.2)\n",
            "Requirement already satisfied: markdown-it-py>=2.2.0 in /usr/local/lib/python3.11/dist-packages (from rich->keras) (3.0.0)\n",
            "Requirement already satisfied: pygments<3.0.0,>=2.13.0 in /usr/local/lib/python3.11/dist-packages (from rich->keras) (2.18.0)\n",
            "Requirement already satisfied: mdurl~=0.1 in /usr/local/lib/python3.11/dist-packages (from markdown-it-py>=2.2.0->rich->keras) (0.1.2)\n",
            "Requirement already satisfied: tensorflow in /usr/local/lib/python3.11/dist-packages (2.18.0)\n",
            "Requirement already satisfied: absl-py>=1.0.0 in /usr/local/lib/python3.11/dist-packages (from tensorflow) (1.4.0)\n",
            "Requirement already satisfied: astunparse>=1.6.0 in /usr/local/lib/python3.11/dist-packages (from tensorflow) (1.6.3)\n",
            "Requirement already satisfied: flatbuffers>=24.3.25 in /usr/local/lib/python3.11/dist-packages (from tensorflow) (25.2.10)\n",
            "Requirement already satisfied: gast!=0.5.0,!=0.5.1,!=0.5.2,>=0.2.1 in /usr/local/lib/python3.11/dist-packages (from tensorflow) (0.6.0)\n",
            "Requirement already satisfied: google-pasta>=0.1.1 in /usr/local/lib/python3.11/dist-packages (from tensorflow) (0.2.0)\n",
            "Requirement already satisfied: libclang>=13.0.0 in /usr/local/lib/python3.11/dist-packages (from tensorflow) (18.1.1)\n",
            "Requirement already satisfied: opt-einsum>=2.3.2 in /usr/local/lib/python3.11/dist-packages (from tensorflow) (3.4.0)\n",
            "Requirement already satisfied: packaging in /usr/local/lib/python3.11/dist-packages (from tensorflow) (24.2)\n",
            "Requirement already satisfied: protobuf!=4.21.0,!=4.21.1,!=4.21.2,!=4.21.3,!=4.21.4,!=4.21.5,<6.0.0dev,>=3.20.3 in /usr/local/lib/python3.11/dist-packages (from tensorflow) (4.25.6)\n",
            "Requirement already satisfied: requests<3,>=2.21.0 in /usr/local/lib/python3.11/dist-packages (from tensorflow) (2.32.3)\n",
            "Requirement already satisfied: setuptools in /usr/local/lib/python3.11/dist-packages (from tensorflow) (75.1.0)\n",
            "Requirement already satisfied: six>=1.12.0 in /usr/local/lib/python3.11/dist-packages (from tensorflow) (1.17.0)\n",
            "Requirement already satisfied: termcolor>=1.1.0 in /usr/local/lib/python3.11/dist-packages (from tensorflow) (2.5.0)\n",
            "Requirement already satisfied: typing-extensions>=3.6.6 in /usr/local/lib/python3.11/dist-packages (from tensorflow) (4.12.2)\n",
            "Requirement already satisfied: wrapt>=1.11.0 in /usr/local/lib/python3.11/dist-packages (from tensorflow) (1.17.2)\n",
            "Requirement already satisfied: grpcio<2.0,>=1.24.3 in /usr/local/lib/python3.11/dist-packages (from tensorflow) (1.71.0)\n",
            "Requirement already satisfied: tensorboard<2.19,>=2.18 in /usr/local/lib/python3.11/dist-packages (from tensorflow) (2.18.0)\n",
            "Requirement already satisfied: keras>=3.5.0 in /usr/local/lib/python3.11/dist-packages (from tensorflow) (3.8.0)\n",
            "Requirement already satisfied: numpy<2.1.0,>=1.26.0 in /usr/local/lib/python3.11/dist-packages (from tensorflow) (2.0.2)\n",
            "Requirement already satisfied: h5py>=3.11.0 in /usr/local/lib/python3.11/dist-packages (from tensorflow) (3.12.1)\n",
            "Requirement already satisfied: ml-dtypes<0.5.0,>=0.4.0 in /usr/local/lib/python3.11/dist-packages (from tensorflow) (0.4.1)\n",
            "Requirement already satisfied: tensorflow-io-gcs-filesystem>=0.23.1 in /usr/local/lib/python3.11/dist-packages (from tensorflow) (0.37.1)\n",
            "Requirement already satisfied: wheel<1.0,>=0.23.0 in /usr/local/lib/python3.11/dist-packages (from astunparse>=1.6.0->tensorflow) (0.45.1)\n",
            "Requirement already satisfied: rich in /usr/local/lib/python3.11/dist-packages (from keras>=3.5.0->tensorflow) (13.9.4)\n",
            "Requirement already satisfied: namex in /usr/local/lib/python3.11/dist-packages (from keras>=3.5.0->tensorflow) (0.0.8)\n",
            "Requirement already satisfied: optree in /usr/local/lib/python3.11/dist-packages (from keras>=3.5.0->tensorflow) (0.14.1)\n",
            "Requirement already satisfied: charset-normalizer<4,>=2 in /usr/local/lib/python3.11/dist-packages (from requests<3,>=2.21.0->tensorflow) (3.4.1)\n",
            "Requirement already satisfied: idna<4,>=2.5 in /usr/local/lib/python3.11/dist-packages (from requests<3,>=2.21.0->tensorflow) (3.10)\n",
            "Requirement already satisfied: urllib3<3,>=1.21.1 in /usr/local/lib/python3.11/dist-packages (from requests<3,>=2.21.0->tensorflow) (2.3.0)\n",
            "Requirement already satisfied: certifi>=2017.4.17 in /usr/local/lib/python3.11/dist-packages (from requests<3,>=2.21.0->tensorflow) (2025.1.31)\n",
            "Requirement already satisfied: markdown>=2.6.8 in /usr/local/lib/python3.11/dist-packages (from tensorboard<2.19,>=2.18->tensorflow) (3.7)\n",
            "Requirement already satisfied: tensorboard-data-server<0.8.0,>=0.7.0 in /usr/local/lib/python3.11/dist-packages (from tensorboard<2.19,>=2.18->tensorflow) (0.7.2)\n",
            "Requirement already satisfied: werkzeug>=1.0.1 in /usr/local/lib/python3.11/dist-packages (from tensorboard<2.19,>=2.18->tensorflow) (3.1.3)\n",
            "Requirement already satisfied: MarkupSafe>=2.1.1 in /usr/local/lib/python3.11/dist-packages (from werkzeug>=1.0.1->tensorboard<2.19,>=2.18->tensorflow) (3.0.2)\n",
            "Requirement already satisfied: markdown-it-py>=2.2.0 in /usr/local/lib/python3.11/dist-packages (from rich->keras>=3.5.0->tensorflow) (3.0.0)\n",
            "Requirement already satisfied: pygments<3.0.0,>=2.13.0 in /usr/local/lib/python3.11/dist-packages (from rich->keras>=3.5.0->tensorflow) (2.18.0)\n",
            "Requirement already satisfied: mdurl~=0.1 in /usr/local/lib/python3.11/dist-packages (from markdown-it-py>=2.2.0->rich->keras>=3.5.0->tensorflow) (0.1.2)\n"
          ]
        }
      ]
    },
    {
      "cell_type": "markdown",
      "source": [
        "3. Persiapan data untuk kebutuhan pelatihan dan pengujian dalam CNN, yang juga sekaligus\n",
        "dilakukan normalisasi nilai piksel gambar dari rentang 0-255 diubah ke dalam rentang -0,5\n",
        "hingga +0,5."
      ],
      "metadata": {
        "id": "xjq4F4TNrPos"
      }
    },
    {
      "cell_type": "code",
      "source": [
        "from tensorflow.keras.datasets import mnist\n",
        "\n",
        "# Memuat dataset MNIST\n",
        "(train_images, train_labels), (test_images, test_labels) = mnist.load_data()\n",
        "\n",
        "train_images = (train_images / 255.0) - 0.5\n",
        "test_images = (test_images / 255.0) - 0.5\n"
      ],
      "metadata": {
        "colab": {
          "base_uri": "https://localhost:8080/"
        },
        "id": "pJu_r8IzrSOc",
        "outputId": "cbd9acf8-602a-46ec-f62b-4cec762c4461"
      },
      "execution_count": null,
      "outputs": [
        {
          "output_type": "stream",
          "name": "stdout",
          "text": [
            "Downloading data from https://storage.googleapis.com/tensorflow/tf-keras-datasets/mnist.npz\n",
            "\u001b[1m11490434/11490434\u001b[0m \u001b[32m━━━━━━━━━━━━━━━━━━━━\u001b[0m\u001b[37m\u001b[0m \u001b[1m0s\u001b[0m 0us/step\n"
          ]
        }
      ]
    },
    {
      "cell_type": "markdown",
      "source": [
        "4. Kebutuhan komputasi CNN pada keras yang membutuhkan gambar dengan ukuran 3 dimensi,\n",
        "membuat perlu dilakukan pengubahan dimensi dari gambar yang tersedia dalam MNIST dari\n",
        "yang berukuran 28 x 28 menjadi 28 x 28 x 1."
      ],
      "metadata": {
        "id": "Gf2h4tR1rRtE"
      }
    },
    {
      "cell_type": "code",
      "source": [
        "train_images = np.expand_dims(train_images, axis=3)\n",
        "test_images = np.expand_dims(test_images, axis=3)"
      ],
      "metadata": {
        "id": "d8aP8jqzrRU0"
      },
      "execution_count": null,
      "outputs": []
    },
    {
      "cell_type": "markdown",
      "source": [
        "5. Selanjutnya membentuk arsitektur model CNN yang di dalamnya memuat 3 proses utama yaitu\n",
        "Convolutional, Max Pooling, serta Fully Connected (dengan softmax). Berikut gambaran\n",
        "arsitektur dari model CNN yang akan dibentuk\n",
        "![image.png](data:image/png;base64,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)\n",
        "\n",
        "  Arsitektur tersebut dapat diimplementasi dengan cara,"
      ],
      "metadata": {
        "id": "x1H644sKrX1z"
      }
    },
    {
      "cell_type": "code",
      "source": [
        "num_filters = 8\n",
        "filter_size = 3\n",
        "pool_size = 2\n",
        "\n",
        "model = Sequential([\n",
        "  Conv2D(\n",
        "    num_filters,\n",
        "    filter_size,\n",
        "    input_shape=(28, 28, 1),\n",
        "    strides=1,\n",
        "    padding='valid',\n",
        "    activation='relu'),\n",
        "  MaxPooling2D(pool_size=pool_size),\n",
        "  Flatten(),\n",
        "  Dense(10, activation='softmax'),\n",
        "])"
      ],
      "metadata": {
        "colab": {
          "base_uri": "https://localhost:8080/"
        },
        "id": "NvwXNc4frk2a",
        "outputId": "c5f313a5-7a96-4652-c89c-42e593e25e46"
      },
      "execution_count": null,
      "outputs": [
        {
          "output_type": "stream",
          "name": "stderr",
          "text": [
            "/usr/local/lib/python3.11/dist-packages/keras/src/layers/convolutional/base_conv.py:107: UserWarning: Do not pass an `input_shape`/`input_dim` argument to a layer. When using Sequential models, prefer using an `Input(shape)` object as the first layer in the model instead.\n",
            "  super().__init__(activity_regularizer=activity_regularizer, **kwargs)\n"
          ]
        }
      ]
    },
    {
      "cell_type": "markdown",
      "source": [
        "6. Sebelum dimulainya proses training model dengan mempertimbangkan data latih yang diberikan,\n",
        "maka arsitektur CNN yang telah dirancang masuk tahap compile dengan mempertimbangkan\n",
        "argumen loss function, fungsi optimasi, serta matriks penilaian sebagai hasil pembelajaran."
      ],
      "metadata": {
        "id": "yTxq_76wrojK"
      }
    },
    {
      "cell_type": "code",
      "source": [
        "model.compile(loss='categorical_crossentropy', optimizer='adam',\n",
        "metrics=['accuracy'])"
      ],
      "metadata": {
        "id": "AawEwnzgrp_E"
      },
      "execution_count": null,
      "outputs": []
    },
    {
      "cell_type": "markdown",
      "source": [
        "7. Langkah selanjutnya yaitu proses Train/Fit model yang telah dirancang untuk disesuaikan\n",
        "dengan data training yang diberikan."
      ],
      "metadata": {
        "id": "Ki-U4WpyrnDj"
      }
    },
    {
      "cell_type": "code",
      "source": [
        "model.fit(\n",
        "  train_images,\n",
        "  to_categorical(train_labels),\n",
        "  epochs=3,\n",
        "  validation_data=(test_images, to_categorical(test_labels)),\n",
        ")\n"
      ],
      "metadata": {
        "colab": {
          "base_uri": "https://localhost:8080/"
        },
        "id": "1O2x1dA2rteb",
        "outputId": "e56b2db5-42c1-4f73-9130-eecaaa8de478"
      },
      "execution_count": null,
      "outputs": [
        {
          "output_type": "stream",
          "name": "stdout",
          "text": [
            "Epoch 1/3\n",
            "\u001b[1m1875/1875\u001b[0m \u001b[32m━━━━━━━━━━━━━━━━━━━━\u001b[0m\u001b[37m\u001b[0m \u001b[1m22s\u001b[0m 11ms/step - accuracy: 0.8398 - loss: 0.5916 - val_accuracy: 0.9612 - val_loss: 0.1334\n",
            "Epoch 2/3\n",
            "\u001b[1m1875/1875\u001b[0m \u001b[32m━━━━━━━━━━━━━━━━━━━━\u001b[0m\u001b[37m\u001b[0m \u001b[1m38s\u001b[0m 9ms/step - accuracy: 0.9629 - loss: 0.1281 - val_accuracy: 0.9736 - val_loss: 0.0866\n",
            "Epoch 3/3\n",
            "\u001b[1m1875/1875\u001b[0m \u001b[32m━━━━━━━━━━━━━━━━━━━━\u001b[0m\u001b[37m\u001b[0m \u001b[1m22s\u001b[0m 10ms/step - accuracy: 0.9750 - loss: 0.0877 - val_accuracy: 0.9741 - val_loss: 0.0798\n"
          ]
        },
        {
          "output_type": "execute_result",
          "data": {
            "text/plain": [
              "<keras.src.callbacks.history.History at 0x7e142a74ea50>"
            ]
          },
          "metadata": {},
          "execution_count": 51
        }
      ]
    },
    {
      "cell_type": "markdown",
      "source": [
        "8. Pada akhirnya model yang telah diperoleh dapat digunakan untuk memprediksi data pengujian\n",
        "yang mana data tersebut tidak disertakan dalam data yang digunakan dalam pelatihan."
      ],
      "metadata": {
        "id": "uVZUi7jVrvIj"
      }
    },
    {
      "cell_type": "code",
      "source": [
        "predictions = model.predict(test_images[:5])\n",
        "print(np.argmax(predictions, axis=1))\n",
        "print(test_labels[:5])"
      ],
      "metadata": {
        "colab": {
          "base_uri": "https://localhost:8080/"
        },
        "id": "bD07UYDPrwMF",
        "outputId": "67fb3b30-e45a-45fe-ea49-161f9de301d2"
      },
      "execution_count": null,
      "outputs": [
        {
          "output_type": "stream",
          "name": "stdout",
          "text": [
            "\u001b[1m1/1\u001b[0m \u001b[32m━━━━━━━━━━━━━━━━━━━━\u001b[0m\u001b[37m\u001b[0m \u001b[1m0s\u001b[0m 77ms/step\n",
            "[7 2 1 0 4]\n",
            "[7 2 1 0 4]\n"
          ]
        }
      ]
    },
    {
      "cell_type": "markdown",
      "source": [
        "9. Tuliskan luaran yang dihasilkan dari eksplorasi Convolutional Neural Network dengan Keras\n",
        "tersebut ke dalam laporan yang disertai dengan penjelasan hasil pemahaman yang Mahasiswa\n",
        "peroleh.\n"
      ],
      "metadata": {
        "id": "GbO8FfJErxXC"
      }
    },
    {
      "cell_type": "markdown",
      "source": [
        "### **Laporan Hasil Percobaan Modul 1-3**"
      ],
      "metadata": {
        "id": "Mvk7BuHtrAec"
      }
    },
    {
      "cell_type": "markdown",
      "source": [
        "1. Pendahuluan \\\n",
        "Pada eksperimen ini, kita melakukan pelatihan model Convolutional Neural Network (CNN) menggunakan dataset MNIST yang berisi gambar digit tulisan tangan dari angka 0 hingga 9. Tujuan dari eksperimen ini adalah untuk mengklasifikasikan gambar digit ke dalam kelas yang sesuai dengan menggunakan model CNN yang dibangun dengan library Keras.\n",
        "\n",
        "  CNN adalah jenis arsitektur jaringan saraf yang sangat efektif dalam memproses data berbentuk gambar. CNN menggunakan lapisan convolutional untuk mengekstraksi fitur dari gambar, dan lapisan pooling untuk mereduksi dimensi dan meningkatkan daya generalisasi."
      ],
      "metadata": {
        "id": "sILGBPvTF_6o"
      }
    },
    {
      "cell_type": "markdown",
      "source": [
        "2. Proses Eksperimen \\\n",
        "Langkah pertama adalah memuat dataset MNIST dan membaginya menjadi dua bagian: satu bagian untuk pelatihan dan satu bagian lainnya untuk validasi. Gambar-gambar dalam dataset kemudian dinormalisasi untuk berada dalam rentang -0.5 hingga +0.5.\n",
        "\n",
        "  Arsitektur Model CNN:\n",
        "\n",
        "  - Input layer menerima gambar dengan dimensi (28x28) pixel.\n",
        "  - Dua lapisan Convolutional (Conv2D), masing-masing diikuti oleh lapisan MaxPooling2D, digunakan untuk mengekstraksi fitur dari gambar.\n",
        "  - Setelah lapisan convolutional dan pooling, data dipipihkan menggunakan lapisan Flatten.\n",
        "  - Lapisan Dense dengan 10 neuron pada output digunakan untuk menghasilkan prediksi kelas digit (0-9), menggunakan fungsi aktivasi Softmax."
      ],
      "metadata": {
        "id": "Lbjo7t3xGD4x"
      }
    },
    {
      "cell_type": "markdown",
      "source": [
        "3. Proses Training dan Evaluasi Model \\\n",
        "Model CNN dikompilasi menggunakan loss function categorical_crossentropy, yang sesuai untuk klasifikasi multi-kelas, dan optimizer adam untuk mempercepat proses pembelajaran. Model juga dipantau menggunakan metrics akurasi untuk mengevaluasi kinerjanya.\n",
        "\n",
        "  Proses Training dimulai dengan 3 epoch dan batch size 32. Model dilatih menggunakan data pelatihan dan divalidasi menggunakan data uji.\n",
        "\n",
        "  Berikut adalah hasil selama proses training:\n",
        "\n",
        "  - Epoch 1/3:\n",
        "\n",
        "  Akurasi pelatihan: 83.98%\n",
        "  Loss pelatihan: 0.5916\n",
        "  Akurasi validasi: 96.12%\n",
        "  Loss validasi: 0.1334\n",
        "  - Epoch 2/3:\n",
        "\n",
        "  Akurasi pelatihan: 96.29%\n",
        "  Loss pelatihan: 0.1281\n",
        "  Akurasi validasi: 97.36%\n",
        "  Loss validasi: 0.0866\n",
        "  - Epoch 3/3:\n",
        "\n",
        "  Akurasi pelatihan: 97.50%\n",
        "  Loss pelatihan: 0.0759\n",
        "  Akurasi validasi: 97.41%\n",
        "  Loss validasi: 0.0798\n",
        "\n",
        "  Interpretasi\n",
        "  1. Akurasi model terus meningkat pada setiap epoch, menunjukkan bahwa model belajar dengan baik dan semakin akurat dalam memprediksi gambar digit.\n",
        "  2. Loss model juga terus menurun, yang mengindikasikan bahwa model semakin baik dalam memperkirakan output yang benar."
      ],
      "metadata": {
        "id": "fXqAD4kTGVzQ"
      }
    },
    {
      "cell_type": "markdown",
      "source": [
        "4. Prediksi pada Data Uji \\\n",
        "Setelah model selesai dilatih, model digunakan untuk memprediksi kelas gambar dari data uji yang belum pernah dilihat sebelumnya. Hasil prediksi untuk 5 gambar pertama adalah sebagai berikut:\n",
        "\n",
        "  Prediksi: [7 2 1 0 4]\\\n",
        "  Label yang sebenarnya: [7 2 1 0 4]\n",
        "\n",
        "  - Prediksi Model: [7 2 1 0 4] menunjukkan bahwa model berhasil memprediksi dengan benar semua gambar yang diuji.\n",
        "  - Label yang Sebenarnya: [7 2 1 0 4] adalah label asli yang ada dalam data uji.\n",
        "\n",
        "  Dengan hasil ini, dapat disimpulkan bahwa semua prediksi model cocok dengan label yang sebenarnya, menunjukkan bahwa model berhasil mengklasifikasikan dengan benar gambar-gambar yang diberikan."
      ],
      "metadata": {
        "id": "yoMt5A7gG8e3"
      }
    },
    {
      "cell_type": "markdown",
      "source": [
        "5. Pemahaman Peribadi \\\n",
        "Dari eksperimen ini, saya memahami bahwa CNN sangat efektif dalam mengklasifikasikan data gambar, dengan kemampuan untuk mengekstraksi fitur dari gambar melalui lapisan convolutional dan pooling. Proses pelatihan model menunjukkan bahwa akurasi model meningkat seiring dengan epoch yang bertambah, menandakan bahwa model mampu belajar dari data pelatihan. Namun, meskipun model menunjukkan akurasi yang tinggi pada data validasi (sekitar 97%), masih ada kesalahan dalam prediksi, yang menunjukkan bahwa model belum sempurna dan masih bisa ditingkatkan lebih lanjut.\n",
        "\n",
        "  Hal-hal yang dipelajari:\n",
        "\n",
        "  - Pentingnya preprocessing data (seperti normalisasi gambar) untuk memaksimalkan performa model CNN.\n",
        "  - Penggunaan Convolutional layers dan Pooling layers yang sangat efektif dalam mengekstraksi fitur dari gambar.\n",
        "  - Pengaruh pengaturan parameter seperti epoch dan batch size terhadap kinerja model."
      ],
      "metadata": {
        "id": "o76V-fB3HhPP"
      }
    },
    {
      "cell_type": "markdown",
      "source": [
        "6. Kesimpulan \\\n",
        "- Model CNN yang dibangun dengan Keras berhasil mengklasifikasikan digit-digit dari dataset MNIST dengan akurasi yang sangat baik (sekitar 97%).\n",
        "- Meskipun model ini sudah cukup akurat, masih ada ruang untuk perbaikan, terutama dalam menangani kesalahan prediksi yang terjadi pada beberapa gambar.\n",
        "- Untuk meningkatkan model ini, kita dapat mencoba teknik optimasi lebih lanjut seperti data augmentation, tuning hyperparameter, atau penggunaan model yang lebih dalam seperti Deep CNN."
      ],
      "metadata": {
        "id": "vMRPZS6iHpy2"
      }
    }
  ]
}